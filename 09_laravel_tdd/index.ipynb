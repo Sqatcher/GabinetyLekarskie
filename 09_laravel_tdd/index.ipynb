{
 "cells": [
  {
   "cell_type": "markdown",
   "metadata": {},
   "source": [
    "# PHP 2022"
   ]
  },
  {
   "cell_type": "markdown",
   "metadata": {},
   "source": [
    "## 9. Laravel TDD"
   ]
  },
  {
   "cell_type": "markdown",
   "metadata": {},
   "source": [
    "This project was started from the solution of the previous exercise.\n",
    "\n",
    "#### Laravel Breeze\n",
    "\n",
    "The [Laravel Breeze](https://laravel.com/docs/9.x/starter-kits#laravel-breeze) package was installed using the ```composer require laravel/breeze --dev``` and ```php artisan breeze:install``` commands. This package enables user registration and logging into the application.\n",
    "\n",
    "An example user is added through the [database/seeders/UsersSeeder.php](../../edit/09_laravel_tdd/project/database/seeders/UsersSeeder.php) class generated using the ```php artisan make:seeder UsersSeeder``` command. The database seeding is done during the execution of the ```php artisan db:seed``` command before the database dump.\n",
    "\n",
    "The logging-in is tested in the [tests_codeception/Acceptance/Test02_LoginCest.php](../../edit/09_laravel_tdd/project/tests_codeception/Acceptance/Test02_LoginCest.php) test.\n",
    "\n",
    "Extensive testing is also done when executing the ```php artisan test``` command because the ```php artisan breeze:install``` command added many additional tests.\n",
    "\n",
    "Because there are many tests, it was possible to safely clean up PHPStan issues in the code added by ```php artisan breeze:install``` command.\n",
    "\n",
    "#### Laravel Markdown\n",
    "\n",
    "The next change done in the project was the use of the [graham-campbell/markdown](https://packagist.org/packages/graham-campbell/markdown) package, which adds support for Markdown in Laravel.\n",
    "\n",
    "The package was installed using the ```composer require graham-campbell/markdown``` command.\n",
    "\n",
    "The [tests_codeception/Acceptance/Test01_CommentsCest.php](../../edit/09_laravel_tdd/project/tests_codeception/Acceptance/Test01_CommentsCest.php) test was extended to test for adding some **bold** text. The [resources/views/comments/show.blade.php](../../edit/09_laravel_tdd/project/resources/views/comments/show.blade.php) view was updated to render the Markdown.\n",
    "\n",
    "#### Tailwind CSS\n",
    "\n",
    "The [tailwindcss](https://tailwindcss.com/) is used to style the front end. Some examples of how to build components in HTML with CSS can be found on, e.g., [flowbite](https://flowbite.com/) site.\n",
    "\n",
    "However, I am not an expert here, so there might be much better resources ;)"
   ]
  },
  {
   "cell_type": "markdown",
   "metadata": {},
   "source": [
    "Start database:"
   ]
  },
  {
   "cell_type": "code",
   "execution_count": 1,
   "metadata": {},
   "outputs": [
    {
     "name": "stdout",
     "output_type": "stream",
     "text": [
      "31e3a5a2f1bd972b04ad21024ab0684a32975ff09033318e61d09a86dbfd6206\r\n"
     ]
    }
   ],
   "source": [
    "! docker run --name=mysql --net=host --rm --env MYSQL_ROOT_PASSWORD=root123 --env MYSQL_ROOT_HOST=% --env MYSQL_DATABASE=test --env MYSQL_USER=test --env MYSQL_PASSWORD=test123 -d mysql/mysql-server:8.0"
   ]
  },
  {
   "cell_type": "code",
   "execution_count": 2,
   "metadata": {},
   "outputs": [
    {
     "name": "stdout",
     "output_type": "stream",
     "text": [
      "Done.\r\n"
     ]
    }
   ],
   "source": [
    "! while ! timeout 1 bash -c \"echo > /dev/tcp/localhost/3306\" 2> /dev/null; do sleep 1; done; echo \"Done.\";"
   ]
  },
  {
   "cell_type": "markdown",
   "metadata": {},
   "source": [
    "Edit the code:"
   ]
  },
  {
   "cell_type": "code",
   "execution_count": 13,
   "metadata": {},
   "outputs": [
    {
     "name": "stdout",
     "output_type": "stream",
     "text": [
      "CompileCommand: exclude com/intellij/openapi/vfs/impl/FilePartNodeRoot.trieDescend bool exclude = true\n",
      "2023-01-28 17:44:09,213 [   1065] SEVERE - #c.i.d.LoadingState - Should be called at least in the state COMPONENTS_LOADED, the current state is: CONFIGURATION_STORE_INITIALIZED\n",
      "Current violators count: 1\n",
      "\n",
      "\n",
      "java.lang.Throwable\n",
      "\tat com.intellij.diagnostic.LoadingState.logStateError(LoadingState.java:52)\n",
      "\tat com.intellij.diagnostic.LoadingState.checkOccurred(LoadingState.java:48)\n",
      "\tat com.intellij.openapi.actionSystem.impl.ActionManagerImpl.<init>(ActionManagerImpl.java:133)\n",
      "\tat com.jetbrains.rdserver.ui.actionPopupMenu.BackendActionManager.<init>(BackendActionManager.kt:17)\n",
      "\tat java.base/jdk.internal.reflect.NativeConstructorAccessorImpl.newInstance0(Native Method)\n",
      "\tat java.base/jdk.internal.reflect.NativeConstructorAccessorImpl.newInstance(NativeConstructorAccessorImpl.java:77)\n",
      "\tat java.base/jdk.internal.reflect.DelegatingConstructorAccessorImpl.newInstance(DelegatingConstructorAccessorImpl.java:45)\n",
      "\tat java.base/java.lang.reflect.Constructor.newInstanceWithCaller(Constructor.java:499)\n",
      "\tat java.base/java.lang.reflect.Constructor.newInstance(Constructor.java:480)\n",
      "\tat com.intellij.serviceContainer.ConstructorInjectionKt.instantiateUsingPicoContainer(constructorInjection.kt:47)\n",
      "\tat com.intellij.serviceContainer.ComponentManagerImpl.instantiateClassWithConstructorInjection(ComponentManagerImpl.kt:890)\n",
      "\tat com.intellij.serviceContainer.ServiceComponentAdapter.createAndInitialize(ServiceComponentAdapter.kt:51)\n",
      "\tat com.intellij.serviceContainer.ServiceComponentAdapter.doCreateInstance(ServiceComponentAdapter.kt:41)\n",
      "\tat com.intellij.serviceContainer.BaseComponentAdapter.getInstanceUncached(BaseComponentAdapter.kt:119)\n",
      "\tat com.intellij.serviceContainer.BaseComponentAdapter.getInstance(BaseComponentAdapter.kt:73)\n",
      "\tat com.intellij.serviceContainer.BaseComponentAdapter.getInstance$default(BaseComponentAdapter.kt:66)\n",
      "\tat com.intellij.serviceContainer.ComponentManagerImpl.doGetService(ComponentManagerImpl.kt:609)\n",
      "\tat com.intellij.serviceContainer.ComponentManagerImpl.getService(ComponentManagerImpl.kt:583)\n",
      "\tat com.intellij.openapi.client.ClientAwareComponentManager.getFromSelfOrCurrentSession(ClientAwareComponentManager.kt:37)\n",
      "\tat com.intellij.openapi.client.ClientAwareComponentManager.getService(ClientAwareComponentManager.kt:22)\n",
      "\tat com.intellij.openapi.actionSystem.ActionManager.getInstance(ActionManager.java:29)\n",
      "\tat com.intellij.help.impl.KeymapGenerator.<clinit>(KeymapGenerator.java:33)\n",
      "\tat java.base/jdk.internal.misc.Unsafe.allocateInstance(Native Method)\n",
      "\tat java.base/java.lang.invoke.DirectMethodHandle.allocateInstance(DirectMethodHandle.java:520)\n",
      "\tat com.intellij.serviceContainer.ComponentManagerImpl.instantiateClass(ComponentManagerImpl.kt:844)\n",
      "\tat com.intellij.openapi.extensions.impl.XmlExtensionAdapter.instantiateClass(XmlExtensionAdapter.kt:79)\n",
      "\tat com.intellij.openapi.extensions.impl.XmlExtensionAdapter$SimpleConstructorInjectionAdapter.instantiateClass(XmlExtensionAdapter.kt:90)\n",
      "\tat com.intellij.openapi.extensions.impl.XmlExtensionAdapter.doCreateInstance(XmlExtensionAdapter.kt:50)\n",
      "\tat com.intellij.openapi.extensions.impl.XmlExtensionAdapter.createInstance(XmlExtensionAdapter.kt:31)\n",
      "\tat com.intellij.openapi.extensions.impl.ExtensionPointImpl.processAdapter(ExtensionPointImpl.java:447)\n",
      "\tat com.intellij.openapi.extensions.impl.ExtensionPointImpl.access$200(ExtensionPointImpl.java:33)\n",
      "\tat com.intellij.openapi.extensions.impl.ExtensionPointImpl$1.next(ExtensionPointImpl.java:355)\n",
      "\tat com.intellij.idea.ApplicationLoader.findAppStarter(ApplicationLoader.kt:595)\n",
      "\tat com.intellij.idea.ApplicationLoader.access$findAppStarter(ApplicationLoader.kt:1)\n",
      "\tat com.intellij.idea.ApplicationLoader$initApplication$block$3.apply(ApplicationLoader.kt:170)\n",
      "\tat com.intellij.idea.ApplicationLoader$initApplication$block$3.apply(ApplicationLoader.kt)\n",
      "\tat java.base/java.util.concurrent.CompletableFuture.uniComposeStage(CompletableFuture.java:1187)\n",
      "\tat java.base/java.util.concurrent.CompletableFuture.thenCompose(CompletableFuture.java:2309)\n",
      "\tat com.intellij.idea.ApplicationLoader.initApplication(ApplicationLoader.kt:145)\n",
      "\tat java.base/jdk.internal.reflect.NativeMethodAccessorImpl.invoke0(Native Method)\n",
      "\tat java.base/jdk.internal.reflect.NativeMethodAccessorImpl.invoke(NativeMethodAccessorImpl.java:77)\n",
      "\tat java.base/jdk.internal.reflect.DelegatingMethodAccessorImpl.invoke(DelegatingMethodAccessorImpl.java:43)\n",
      "\tat java.base/java.lang.reflect.Method.invoke(Method.java:568)\n",
      "\tat com.intellij.idea.m.m(m.java:100)\n",
      "\tat com.intellij.ide.m.v.G.m(G.java:137)\n",
      "\tat com.intellij.ide.m.v.v.m(v.java:189)\n",
      "\tat java.base/jdk.internal.reflect.NativeMethodAccessorImpl.invoke0(Native Method)\n",
      "\tat java.base/jdk.internal.reflect.NativeMethodAccessorImpl.invoke(NativeMethodAccessorImpl.java:77)\n",
      "\tat java.base/jdk.internal.reflect.DelegatingMethodAccessorImpl.invoke(DelegatingMethodAccessorImpl.java:43)\n",
      "\tat java.base/java.lang.reflect.Method.invoke(Method.java:568)\n",
      "\tat com.intellij.idea.MainImpl.start(MainImpl.java:85)\n",
      "\tat com.intellij.idea.StartupUtil.lambda$start$14(StartupUtil.java:262)\n",
      "\tat java.base/java.util.concurrent.CompletableFuture$UniCompose.tryFire(CompletableFuture.java:1150)\n",
      "\tat java.base/java.util.concurrent.CompletableFuture.postComplete(CompletableFuture.java:510)\n",
      "\tat java.base/java.util.concurrent.CompletableFuture$AsyncSupply.run(CompletableFuture.java:1773)\n",
      "\tat java.base/java.util.concurrent.CompletableFuture$AsyncSupply.exec(CompletableFuture.java:1760)\n",
      "\tat java.base/java.util.concurrent.ForkJoinTask.doExec(ForkJoinTask.java:373)\n",
      "\tat java.base/java.util.concurrent.ForkJoinPool$WorkQueue.topLevelExec(ForkJoinPool.java:1182)\n",
      "\tat java.base/java.util.concurrent.ForkJoinPool.scan(ForkJoinPool.java:1655)\n",
      "\tat java.base/java.util.concurrent.ForkJoinPool.runWorker(ForkJoinPool.java:1622)\n",
      "\tat java.base/java.util.concurrent.ForkJoinWorkerThread.run(ForkJoinWorkerThread.java:165)\n",
      "2023-01-28 17:44:09,224 [   1076] SEVERE - #c.i.d.LoadingState - PhpStorm 2022.2.3  Build #PS-222.4345.15\n",
      "2023-01-28 17:44:09,226 [   1078] SEVERE - #c.i.d.LoadingState - JDK: 17.0.4.1; VM: OpenJDK 64-Bit Server VM; Vendor: JetBrains s.r.o.\n",
      "2023-01-28 17:44:09,227 [   1079] SEVERE - #c.i.d.LoadingState - OS: Linux\n",
      "2023-01-28 17:44:09,794 [   1646] SEVERE - #c.i.d.LoadingState - Should be called at least in the state COMPONENTS_LOADED, the current state is: CONFIGURATION_STORE_INITIALIZED\n",
      "Current violators count: 2\n",
      "\n",
      "\n",
      "java.lang.Throwable\n",
      "\tat com.intellij.diagnostic.LoadingState.logStateError(LoadingState.java:52)\n",
      "\tat com.intellij.diagnostic.LoadingState.checkOccurred(LoadingState.java:48)\n",
      "\tat com.intellij.openapi.util.registry.Registry.getInstance(Registry.java:176)\n",
      "\tat com.intellij.openapi.util.registry.Registry.get(Registry.java:50)\n",
      "\tat com.intellij.openapi.util.registry.Registry.is(Registry.java:63)\n",
      "\tat com.intellij.execution.ExecutorRegistryImpl.isExecutorInMainGroup(ExecutorRegistryImpl.java:195)\n",
      "\tat com.intellij.execution.ExecutorRegistryImpl.initExecutorActions(ExecutorRegistryImpl.java:127)\n",
      "\tat com.intellij.execution.ExecutorRegistryImpl.init(ExecutorRegistryImpl.java:278)\n",
      "\tat com.intellij.execution.ExecutorRegistryImpl$ExecutorRegistryActionConfigurationTuner.customize(ExecutorRegistryImpl.java:92)\n",
      "\tat com.intellij.openapi.actionSystem.impl.ActionManagerImpl.lambda$new$0(ActionManagerImpl.java:141)\n",
      "\tat com.intellij.openapi.extensions.impl.ExtensionProcessingHelper.forEachExtensionSafe(ExtensionProcessingHelper.java:34)\n",
      "\tat com.intellij.openapi.extensions.ExtensionPointName.forEachExtensionSafe(ExtensionPointName.java:46)\n",
      "\tat com.intellij.openapi.actionSystem.impl.ActionManagerImpl.<init>(ActionManagerImpl.java:141)\n",
      "\tat com.jetbrains.rdserver.ui.actionPopupMenu.BackendActionManager.<init>(BackendActionManager.kt:17)\n",
      "\tat java.base/jdk.internal.reflect.NativeConstructorAccessorImpl.newInstance0(Native Method)\n",
      "\tat java.base/jdk.internal.reflect.NativeConstructorAccessorImpl.newInstance(NativeConstructorAccessorImpl.java:77)\n",
      "\tat java.base/jdk.internal.reflect.DelegatingConstructorAccessorImpl.newInstance(DelegatingConstructorAccessorImpl.java:45)\n",
      "\tat java.base/java.lang.reflect.Constructor.newInstanceWithCaller(Constructor.java:499)\n",
      "\tat java.base/java.lang.reflect.Constructor.newInstance(Constructor.java:480)\n",
      "\tat com.intellij.serviceContainer.ConstructorInjectionKt.instantiateUsingPicoContainer(constructorInjection.kt:47)\n",
      "\tat com.intellij.serviceContainer.ComponentManagerImpl.instantiateClassWithConstructorInjection(ComponentManagerImpl.kt:890)\n",
      "\tat com.intellij.serviceContainer.ServiceComponentAdapter.createAndInitialize(ServiceComponentAdapter.kt:51)\n",
      "\tat com.intellij.serviceContainer.ServiceComponentAdapter.doCreateInstance(ServiceComponentAdapter.kt:41)\n",
      "\tat com.intellij.serviceContainer.BaseComponentAdapter.getInstanceUncached(BaseComponentAdapter.kt:119)\n",
      "\tat com.intellij.serviceContainer.BaseComponentAdapter.getInstance(BaseComponentAdapter.kt:73)\n",
      "\tat com.intellij.serviceContainer.BaseComponentAdapter.getInstance$default(BaseComponentAdapter.kt:66)\n",
      "\tat com.intellij.serviceContainer.ComponentManagerImpl.doGetService(ComponentManagerImpl.kt:609)\n",
      "\tat com.intellij.serviceContainer.ComponentManagerImpl.getService(ComponentManagerImpl.kt:583)\n",
      "\tat com.intellij.openapi.client.ClientAwareComponentManager.getFromSelfOrCurrentSession(ClientAwareComponentManager.kt:37)\n",
      "\tat com.intellij.openapi.client.ClientAwareComponentManager.getService(ClientAwareComponentManager.kt:22)\n",
      "\tat com.intellij.openapi.actionSystem.ActionManager.getInstance(ActionManager.java:29)\n",
      "\tat com.intellij.help.impl.KeymapGenerator.<clinit>(KeymapGenerator.java:33)\n",
      "\tat java.base/jdk.internal.misc.Unsafe.allocateInstance(Native Method)\n",
      "\tat java.base/java.lang.invoke.DirectMethodHandle.allocateInstance(DirectMethodHandle.java:520)\n",
      "\tat com.intellij.serviceContainer.ComponentManagerImpl.instantiateClass(ComponentManagerImpl.kt:844)\n",
      "\tat com.intellij.openapi.extensions.impl.XmlExtensionAdapter.instantiateClass(XmlExtensionAdapter.kt:79)\n",
      "\tat com.intellij.openapi.extensions.impl.XmlExtensionAdapter$SimpleConstructorInjectionAdapter.instantiateClass(XmlExtensionAdapter.kt:90)\n",
      "\tat com.intellij.openapi.extensions.impl.XmlExtensionAdapter.doCreateInstance(XmlExtensionAdapter.kt:50)\n",
      "\tat com.intellij.openapi.extensions.impl.XmlExtensionAdapter.createInstance(XmlExtensionAdapter.kt:31)\n",
      "\tat com.intellij.openapi.extensions.impl.ExtensionPointImpl.processAdapter(ExtensionPointImpl.java:447)\n",
      "\tat com.intellij.openapi.extensions.impl.ExtensionPointImpl.access$200(ExtensionPointImpl.java:33)\n",
      "\tat com.intellij.openapi.extensions.impl.ExtensionPointImpl$1.next(ExtensionPointImpl.java:355)\n",
      "\tat com.intellij.idea.ApplicationLoader.findAppStarter(ApplicationLoader.kt:595)\n",
      "\tat com.intellij.idea.ApplicationLoader.access$findAppStarter(ApplicationLoader.kt:1)\n",
      "\tat com.intellij.idea.ApplicationLoader$initApplication$block$3.apply(ApplicationLoader.kt:170)\n",
      "\tat com.intellij.idea.ApplicationLoader$initApplication$block$3.apply(ApplicationLoader.kt)\n",
      "\tat java.base/java.util.concurrent.CompletableFuture.uniComposeStage(CompletableFuture.java:1187)\n",
      "\tat java.base/java.util.concurrent.CompletableFuture.thenCompose(CompletableFuture.java:2309)\n",
      "\tat com.intellij.idea.ApplicationLoader.initApplication(ApplicationLoader.kt:145)\n",
      "\tat java.base/jdk.internal.reflect.NativeMethodAccessorImpl.invoke0(Native Method)\n",
      "\tat java.base/jdk.internal.reflect.NativeMethodAccessorImpl.invoke(NativeMethodAccessorImpl.java:77)\n",
      "\tat java.base/jdk.internal.reflect.DelegatingMethodAccessorImpl.invoke(DelegatingMethodAccessorImpl.java:43)\n",
      "\tat java.base/java.lang.reflect.Method.invoke(Method.java:568)\n",
      "\tat com.intellij.idea.m.m(m.java:100)\n",
      "\tat com.intellij.ide.m.v.G.m(G.java:137)\n",
      "\tat com.intellij.ide.m.v.v.m(v.java:189)\n",
      "\tat java.base/jdk.internal.reflect.NativeMethodAccessorImpl.invoke0(Native Method)\n",
      "\tat java.base/jdk.internal.reflect.NativeMethodAccessorImpl.invoke(NativeMethodAccessorImpl.java:77)\n",
      "\tat java.base/jdk.internal.reflect.DelegatingMethodAccessorImpl.invoke(DelegatingMethodAccessorImpl.java:43)\n",
      "\tat java.base/java.lang.reflect.Method.invoke(Method.java:568)\n",
      "\tat com.intellij.idea.MainImpl.start(MainImpl.java:85)\n",
      "\tat com.intellij.idea.StartupUtil.lambda$start$14(StartupUtil.java:262)\n",
      "\tat java.base/java.util.concurrent.CompletableFuture$UniCompose.tryFire(CompletableFuture.java:1150)\n",
      "\tat java.base/java.util.concurrent.CompletableFuture.postComplete(CompletableFuture.java:510)\n",
      "\tat java.base/java.util.concurrent.CompletableFuture$AsyncSupply.run(CompletableFuture.java:1773)\n",
      "\tat java.base/java.util.concurrent.CompletableFuture$AsyncSupply.exec(CompletableFuture.java:1760)\n",
      "\tat java.base/java.util.concurrent.ForkJoinTask.doExec(ForkJoinTask.java:373)\n",
      "\tat java.base/java.util.concurrent.ForkJoinPool$WorkQueue.topLevelExec(ForkJoinPool.java:1182)\n",
      "\tat java.base/java.util.concurrent.ForkJoinPool.scan(ForkJoinPool.java:1655)\n",
      "\tat java.base/java.util.concurrent.ForkJoinPool.runWorker(ForkJoinPool.java:1622)\n",
      "\tat java.base/java.util.concurrent.ForkJoinWorkerThread.run(ForkJoinWorkerThread.java:165)\n",
      "2023-01-28 17:44:09,798 [   1650] SEVERE - #c.i.d.LoadingState - PhpStorm 2022.2.3  Build #PS-222.4345.15\n",
      "2023-01-28 17:44:09,799 [   1651] SEVERE - #c.i.d.LoadingState - JDK: 17.0.4.1; VM: OpenJDK 64-Bit Server VM; Vendor: JetBrains s.r.o.\n",
      "2023-01-28 17:44:09,799 [   1651] SEVERE - #c.i.d.LoadingState - OS: Linux\n",
      "2023-01-28 17:44:09,821 [   1673] SEVERE - #c.i.d.LoadingState - Should be called at least in the state COMPONENTS_LOADED, the current state is: CONFIGURATION_STORE_INITIALIZED\n",
      "Current violators count: 3\n",
      "\n",
      "\n",
      "java.lang.Throwable\n",
      "\tat com.intellij.diagnostic.LoadingState.logStateError(LoadingState.java:52)\n",
      "\tat com.intellij.diagnostic.LoadingState.checkOccurred(LoadingState.java:48)\n",
      "\tat com.intellij.openapi.util.registry.Registry.getInstance(Registry.java:176)\n",
      "\tat com.intellij.openapi.util.registry.Registry.get(Registry.java:50)\n",
      "\tat com.intellij.openapi.util.registry.Registry.is(Registry.java:63)\n",
      "\tat com.intellij.openapi.wm.impl.GlobalMenuLinux._loadLibrary(GlobalMenuLinux.java:797)\n",
      "\tat com.intellij.openapi.wm.impl.GlobalMenuLinux.<clinit>(GlobalMenuLinux.java:164)\n",
      "\tat com.intellij.openapi.wm.impl.GlobalMenuLinux$MyActionTuner.customize(GlobalMenuLinux.java:230)\n",
      "\tat com.intellij.openapi.actionSystem.impl.ActionManagerImpl.lambda$new$0(ActionManagerImpl.java:141)\n",
      "\tat com.intellij.openapi.extensions.impl.ExtensionProcessingHelper.forEachExtensionSafe(ExtensionProcessingHelper.java:34)\n",
      "\tat com.intellij.openapi.extensions.ExtensionPointName.forEachExtensionSafe(ExtensionPointName.java:46)\n",
      "\tat com.intellij.openapi.actionSystem.impl.ActionManagerImpl.<init>(ActionManagerImpl.java:141)\n",
      "\tat com.jetbrains.rdserver.ui.actionPopupMenu.BackendActionManager.<init>(BackendActionManager.kt:17)\n",
      "\tat java.base/jdk.internal.reflect.NativeConstructorAccessorImpl.newInstance0(Native Method)\n",
      "\tat java.base/jdk.internal.reflect.NativeConstructorAccessorImpl.newInstance(NativeConstructorAccessorImpl.java:77)\n",
      "\tat java.base/jdk.internal.reflect.DelegatingConstructorAccessorImpl.newInstance(DelegatingConstructorAccessorImpl.java:45)\n",
      "\tat java.base/java.lang.reflect.Constructor.newInstanceWithCaller(Constructor.java:499)\n",
      "\tat java.base/java.lang.reflect.Constructor.newInstance(Constructor.java:480)\n",
      "\tat com.intellij.serviceContainer.ConstructorInjectionKt.instantiateUsingPicoContainer(constructorInjection.kt:47)\n",
      "\tat com.intellij.serviceContainer.ComponentManagerImpl.instantiateClassWithConstructorInjection(ComponentManagerImpl.kt:890)\n",
      "\tat com.intellij.serviceContainer.ServiceComponentAdapter.createAndInitialize(ServiceComponentAdapter.kt:51)\n",
      "\tat com.intellij.serviceContainer.ServiceComponentAdapter.doCreateInstance(ServiceComponentAdapter.kt:41)\n",
      "\tat com.intellij.serviceContainer.BaseComponentAdapter.getInstanceUncached(BaseComponentAdapter.kt:119)\n",
      "\tat com.intellij.serviceContainer.BaseComponentAdapter.getInstance(BaseComponentAdapter.kt:73)\n",
      "\tat com.intellij.serviceContainer.BaseComponentAdapter.getInstance$default(BaseComponentAdapter.kt:66)\n",
      "\tat com.intellij.serviceContainer.ComponentManagerImpl.doGetService(ComponentManagerImpl.kt:609)\n",
      "\tat com.intellij.serviceContainer.ComponentManagerImpl.getService(ComponentManagerImpl.kt:583)\n",
      "\tat com.intellij.openapi.client.ClientAwareComponentManager.getFromSelfOrCurrentSession(ClientAwareComponentManager.kt:37)\n",
      "\tat com.intellij.openapi.client.ClientAwareComponentManager.getService(ClientAwareComponentManager.kt:22)\n",
      "\tat com.intellij.openapi.actionSystem.ActionManager.getInstance(ActionManager.java:29)\n",
      "\tat com.intellij.help.impl.KeymapGenerator.<clinit>(KeymapGenerator.java:33)\n",
      "\tat java.base/jdk.internal.misc.Unsafe.allocateInstance(Native Method)\n",
      "\tat java.base/java.lang.invoke.DirectMethodHandle.allocateInstance(DirectMethodHandle.java:520)\n",
      "\tat com.intellij.serviceContainer.ComponentManagerImpl.instantiateClass(ComponentManagerImpl.kt:844)\n",
      "\tat com.intellij.openapi.extensions.impl.XmlExtensionAdapter.instantiateClass(XmlExtensionAdapter.kt:79)\n",
      "\tat com.intellij.openapi.extensions.impl.XmlExtensionAdapter$SimpleConstructorInjectionAdapter.instantiateClass(XmlExtensionAdapter.kt:90)\n",
      "\tat com.intellij.openapi.extensions.impl.XmlExtensionAdapter.doCreateInstance(XmlExtensionAdapter.kt:50)\n",
      "\tat com.intellij.openapi.extensions.impl.XmlExtensionAdapter.createInstance(XmlExtensionAdapter.kt:31)\n",
      "\tat com.intellij.openapi.extensions.impl.ExtensionPointImpl.processAdapter(ExtensionPointImpl.java:447)\n",
      "\tat com.intellij.openapi.extensions.impl.ExtensionPointImpl.access$200(ExtensionPointImpl.java:33)\n",
      "\tat com.intellij.openapi.extensions.impl.ExtensionPointImpl$1.next(ExtensionPointImpl.java:355)\n",
      "\tat com.intellij.idea.ApplicationLoader.findAppStarter(ApplicationLoader.kt:595)\n",
      "\tat com.intellij.idea.ApplicationLoader.access$findAppStarter(ApplicationLoader.kt:1)\n",
      "\tat com.intellij.idea.ApplicationLoader$initApplication$block$3.apply(ApplicationLoader.kt:170)\n",
      "\tat com.intellij.idea.ApplicationLoader$initApplication$block$3.apply(ApplicationLoader.kt)\n",
      "\tat java.base/java.util.concurrent.CompletableFuture.uniComposeStage(CompletableFuture.java:1187)\n",
      "\tat java.base/java.util.concurrent.CompletableFuture.thenCompose(CompletableFuture.java:2309)\n",
      "\tat com.intellij.idea.ApplicationLoader.initApplication(ApplicationLoader.kt:145)\n",
      "\tat java.base/jdk.internal.reflect.NativeMethodAccessorImpl.invoke0(Native Method)\n",
      "\tat java.base/jdk.internal.reflect.NativeMethodAccessorImpl.invoke(NativeMethodAccessorImpl.java:77)\n",
      "\tat java.base/jdk.internal.reflect.DelegatingMethodAccessorImpl.invoke(DelegatingMethodAccessorImpl.java:43)\n",
      "\tat java.base/java.lang.reflect.Method.invoke(Method.java:568)\n",
      "\tat com.intellij.idea.m.m(m.java:100)\n",
      "\tat com.intellij.ide.m.v.G.m(G.java:137)\n",
      "\tat com.intellij.ide.m.v.v.m(v.java:189)\n",
      "\tat java.base/jdk.internal.reflect.NativeMethodAccessorImpl.invoke0(Native Method)\n",
      "\tat java.base/jdk.internal.reflect.NativeMethodAccessorImpl.invoke(NativeMethodAccessorImpl.java:77)\n",
      "\tat java.base/jdk.internal.reflect.DelegatingMethodAccessorImpl.invoke(DelegatingMethodAccessorImpl.java:43)\n",
      "\tat java.base/java.lang.reflect.Method.invoke(Method.java:568)\n",
      "\tat com.intellij.idea.MainImpl.start(MainImpl.java:85)\n",
      "\tat com.intellij.idea.StartupUtil.lambda$start$14(StartupUtil.java:262)\n",
      "\tat java.base/java.util.concurrent.CompletableFuture$UniCompose.tryFire(CompletableFuture.java:1150)\n",
      "\tat java.base/java.util.concurrent.CompletableFuture.postComplete(CompletableFuture.java:510)\n",
      "\tat java.base/java.util.concurrent.CompletableFuture$AsyncSupply.run(CompletableFuture.java:1773)\n",
      "\tat java.base/java.util.concurrent.CompletableFuture$AsyncSupply.exec(CompletableFuture.java:1760)\n",
      "\tat java.base/java.util.concurrent.ForkJoinTask.doExec(ForkJoinTask.java:373)\n",
      "\tat java.base/java.util.concurrent.ForkJoinPool$WorkQueue.topLevelExec(ForkJoinPool.java:1182)\n",
      "\tat java.base/java.util.concurrent.ForkJoinPool.scan(ForkJoinPool.java:1655)\n",
      "\tat java.base/java.util.concurrent.ForkJoinPool.runWorker(ForkJoinPool.java:1622)\n",
      "\tat java.base/java.util.concurrent.ForkJoinWorkerThread.run(ForkJoinWorkerThread.java:165)\n",
      "2023-01-28 17:44:09,824 [   1676] SEVERE - #c.i.d.LoadingState - PhpStorm 2022.2.3  Build #PS-222.4345.15\n",
      "2023-01-28 17:44:09,825 [   1677] SEVERE - #c.i.d.LoadingState - JDK: 17.0.4.1; VM: OpenJDK 64-Bit Server VM; Vendor: JetBrains s.r.o.\n",
      "2023-01-28 17:44:09,825 [   1677] SEVERE - #c.i.d.LoadingState - OS: Linux\n"
     ]
    },
    {
     "name": "stdout",
     "output_type": "stream",
     "text": [
      "Info  | RdCoroutineScope          | 14:JobScheduler FJ pool 2/4 | RdCoroutineHost overridden \n",
      "2023-01-28 17:44:13,225 [   5077]   WARN - #c.i.o.a.i.ActionUpdater - 267 ms to grab EDT for CWMTelephonyGroup#update@NavBarToolbar (com.jetbrains.rd.platform.codeWithMe.telephony.CWMTelephonyGroup)\n",
      "2023-01-28 17:44:18,252 [  10104]   WARN - #c.i.u.x.Binding - no accessors for com.jetbrains.php.testFramework.PhpTestFrameworkType\n",
      "2023-01-28 17:44:20,643 [  12495]   WARN - #c.i.o.a.i.ActionUpdater - 1355 ms to grab EDT for BackAction#update@MainToolbar (com.intellij.ide.actions.BackAction)\n",
      "2023-01-28 17:44:27,224 [  19076]   WARN - #c.j.p.p.PharLibraryManager - Frequent root change. Source class com.jetbrains.php.phar.PharLibraryManager, delta 4222.\n",
      "Old roots: [phar:///home/student/PHP/php_2022_bukmacher/09_laravel_tdd/project/vendor/bin/phpstan.phar/]\n",
      "New Roots: [phar:///home/student/PHP/php_2022_bukmacher/09_laravel_tdd/project/vendor/bin/phpstan.phar/, phar:///home/student/PHP/php_2022_bukmacher/09_laravel_tdd/project/vendor/phpstan/phpstan/phpstan.phar/]\n",
      "2023-01-28 17:44:33,795 [  25647]   WARN - #c.j.p.PhpIndex - Invalid Signature '\\ArrayIterator'\n",
      "2023-01-28 17:55:44,392 [ 696244]   WARN - #c.j.p.PhpIndex - Invalid Signature '\\ArrayIterator'\n",
      "2023-01-28 17:56:03,509 [ 715361]   WARN - #c.i.u.x.Binding - no accessors for org.jetbrains.idea.perforce.perforce.ConnectionId\n",
      "2023-01-28 17:57:36,573 [ 808425]   WARN - #c.j.p.PhpIndex - Invalid Signature '\\ArrayIterator'\n",
      "2023-01-28 18:01:24,132 [1035984]   WARN - #c.j.p.PhpIndex - Invalid Signature '\\ArrayIterator'\n",
      "2023-01-28 18:07:17,219 [1389071]   WARN - #c.j.p.PhpIndex - Invalid Signature '\\ArrayIterator'\n",
      "2023-01-28 18:10:59,107 [1610959]   WARN - #c.j.p.PhpIndex - Invalid Signature '\\ArrayIterator'\n",
      "2023-01-28 18:10:59,107 [1610959]   WARN - #c.j.p.PhpIndex - Invalid Signature '\\ArrayIterator'\n",
      "2023-01-28 18:12:33,607 [1705459]   WARN - #c.j.p.PhpIndex - Invalid Signature '\\ArrayIterator'\n",
      "2023-01-28 18:12:33,607 [1705459]   WARN - #c.j.p.PhpIndex - Invalid Signature '\\ArrayIterator'\n",
      "2023-01-28 18:12:33,607 [1705459]   WARN - #c.j.p.PhpIndex - Invalid Signature '\\ArrayIterator'\n",
      "2023-01-28 18:12:33,607 [1705459]   WARN - #c.j.p.PhpIndex - Invalid Signature '\\ArrayIterator'\n"
     ]
    }
   ],
   "source": [
    "! phpstorm project"
   ]
  },
  {
   "cell_type": "markdown",
   "metadata": {},
   "source": [
    "You can test your solution using included tests:"
   ]
  },
  {
   "cell_type": "code",
   "execution_count": 3,
   "metadata": {},
   "outputs": [
    {
     "name": "stdout",
     "output_type": "stream",
     "text": [
      "/home/student/PHP/php_2022_bukmacher/09_laravel_tdd/project\n"
     ]
    }
   ],
   "source": [
    "%cd project"
   ]
  },
  {
   "cell_type": "code",
   "execution_count": 4,
   "metadata": {
    "scrolled": true
   },
   "outputs": [
    {
     "name": "stdout",
     "output_type": "stream",
     "text": [
      "\u001b[32mInstalling dependencies from lock file (including require-dev)\u001b[39m\n",
      "\u001b[32mVerifying lock file contents can be installed on current platform.\u001b[39m\n",
      "Nothing to install, update or remove\n",
      "\u001b[32mGenerating optimized autoload files\u001b[39m\n",
      "> Illuminate\\Foundation\\ComposerScripts::postAutoloadDump\n",
      "> @php artisan package:discover --ansi\n",
      "\n",
      "  \u001b[37;44m INFO \u001b[39;49m Discovering packages.  \n",
      "\n",
      "  graham-campbell/markdown \u001b[90m.\u001b[39m\u001b[90m.\u001b[39m\u001b[90m.\u001b[39m\u001b[90m.\u001b[39m\u001b[90m.\u001b[39m\u001b[90m.\u001b[39m\u001b[90m.\u001b[39m\u001b[90m.\u001b[39m\u001b[90m.\u001b[39m\u001b[90m.\u001b[39m\u001b[90m.\u001b[39m\u001b[90m.\u001b[39m\u001b[90m.\u001b[39m\u001b[90m.\u001b[39m\u001b[90m.\u001b[39m\u001b[90m.\u001b[39m\u001b[90m.\u001b[39m\u001b[90m.\u001b[39m\u001b[90m.\u001b[39m\u001b[90m.\u001b[39m\u001b[90m.\u001b[39m\u001b[90m.\u001b[39m\u001b[90m.\u001b[39m\u001b[90m.\u001b[39m\u001b[90m.\u001b[39m\u001b[90m.\u001b[39m\u001b[90m.\u001b[39m\u001b[90m.\u001b[39m\u001b[90m.\u001b[39m\u001b[90m.\u001b[39m\u001b[90m.\u001b[39m\u001b[90m.\u001b[39m\u001b[90m.\u001b[39m\u001b[90m.\u001b[39m\u001b[90m.\u001b[39m\u001b[90m.\u001b[39m\u001b[90m.\u001b[39m\u001b[90m.\u001b[39m\u001b[90m.\u001b[39m\u001b[90m.\u001b[39m\u001b[90m.\u001b[39m\u001b[90m.\u001b[39m\u001b[90m.\u001b[39m\u001b[90m.\u001b[39m\u001b[90m.\u001b[39m\u001b[90m.\u001b[39m \u001b[32;1mDONE\u001b[39;22m\n",
      "  laravel/breeze \u001b[90m.\u001b[39m\u001b[90m.\u001b[39m\u001b[90m.\u001b[39m\u001b[90m.\u001b[39m\u001b[90m.\u001b[39m\u001b[90m.\u001b[39m\u001b[90m.\u001b[39m\u001b[90m.\u001b[39m\u001b[90m.\u001b[39m\u001b[90m.\u001b[39m\u001b[90m.\u001b[39m\u001b[90m.\u001b[39m\u001b[90m.\u001b[39m\u001b[90m.\u001b[39m\u001b[90m.\u001b[39m\u001b[90m.\u001b[39m\u001b[90m.\u001b[39m\u001b[90m.\u001b[39m\u001b[90m.\u001b[39m\u001b[90m.\u001b[39m\u001b[90m.\u001b[39m\u001b[90m.\u001b[39m\u001b[90m.\u001b[39m\u001b[90m.\u001b[39m\u001b[90m.\u001b[39m\u001b[90m.\u001b[39m\u001b[90m.\u001b[39m\u001b[90m.\u001b[39m\u001b[90m.\u001b[39m\u001b[90m.\u001b[39m\u001b[90m.\u001b[39m\u001b[90m.\u001b[39m\u001b[90m.\u001b[39m\u001b[90m.\u001b[39m\u001b[90m.\u001b[39m\u001b[90m.\u001b[39m\u001b[90m.\u001b[39m\u001b[90m.\u001b[39m\u001b[90m.\u001b[39m\u001b[90m.\u001b[39m\u001b[90m.\u001b[39m\u001b[90m.\u001b[39m\u001b[90m.\u001b[39m\u001b[90m.\u001b[39m\u001b[90m.\u001b[39m\u001b[90m.\u001b[39m\u001b[90m.\u001b[39m\u001b[90m.\u001b[39m\u001b[90m.\u001b[39m\u001b[90m.\u001b[39m\u001b[90m.\u001b[39m\u001b[90m.\u001b[39m\u001b[90m.\u001b[39m\u001b[90m.\u001b[39m\u001b[90m.\u001b[39m\u001b[90m.\u001b[39m \u001b[32;1mDONE\u001b[39;22m\n",
      "  laravel/sail \u001b[90m.\u001b[39m\u001b[90m.\u001b[39m\u001b[90m.\u001b[39m\u001b[90m.\u001b[39m\u001b[90m.\u001b[39m\u001b[90m.\u001b[39m\u001b[90m.\u001b[39m\u001b[90m.\u001b[39m\u001b[90m.\u001b[39m\u001b[90m.\u001b[39m\u001b[90m.\u001b[39m\u001b[90m.\u001b[39m\u001b[90m.\u001b[39m\u001b[90m.\u001b[39m\u001b[90m.\u001b[39m\u001b[90m.\u001b[39m\u001b[90m.\u001b[39m\u001b[90m.\u001b[39m\u001b[90m.\u001b[39m\u001b[90m.\u001b[39m\u001b[90m.\u001b[39m\u001b[90m.\u001b[39m\u001b[90m.\u001b[39m\u001b[90m.\u001b[39m\u001b[90m.\u001b[39m\u001b[90m.\u001b[39m\u001b[90m.\u001b[39m\u001b[90m.\u001b[39m\u001b[90m.\u001b[39m\u001b[90m.\u001b[39m\u001b[90m.\u001b[39m\u001b[90m.\u001b[39m\u001b[90m.\u001b[39m\u001b[90m.\u001b[39m\u001b[90m.\u001b[39m\u001b[90m.\u001b[39m\u001b[90m.\u001b[39m\u001b[90m.\u001b[39m\u001b[90m.\u001b[39m\u001b[90m.\u001b[39m\u001b[90m.\u001b[39m\u001b[90m.\u001b[39m\u001b[90m.\u001b[39m\u001b[90m.\u001b[39m\u001b[90m.\u001b[39m\u001b[90m.\u001b[39m\u001b[90m.\u001b[39m\u001b[90m.\u001b[39m\u001b[90m.\u001b[39m\u001b[90m.\u001b[39m\u001b[90m.\u001b[39m\u001b[90m.\u001b[39m\u001b[90m.\u001b[39m\u001b[90m.\u001b[39m\u001b[90m.\u001b[39m\u001b[90m.\u001b[39m\u001b[90m.\u001b[39m\u001b[90m.\u001b[39m \u001b[32;1mDONE\u001b[39;22m\n",
      "  laravel/sanctum \u001b[90m.\u001b[39m\u001b[90m.\u001b[39m\u001b[90m.\u001b[39m\u001b[90m.\u001b[39m\u001b[90m.\u001b[39m\u001b[90m.\u001b[39m\u001b[90m.\u001b[39m\u001b[90m.\u001b[39m\u001b[90m.\u001b[39m\u001b[90m.\u001b[39m\u001b[90m.\u001b[39m\u001b[90m.\u001b[39m\u001b[90m.\u001b[39m\u001b[90m.\u001b[39m\u001b[90m.\u001b[39m\u001b[90m.\u001b[39m\u001b[90m.\u001b[39m\u001b[90m.\u001b[39m\u001b[90m.\u001b[39m\u001b[90m.\u001b[39m\u001b[90m.\u001b[39m\u001b[90m.\u001b[39m\u001b[90m.\u001b[39m\u001b[90m.\u001b[39m\u001b[90m.\u001b[39m\u001b[90m.\u001b[39m\u001b[90m.\u001b[39m\u001b[90m.\u001b[39m\u001b[90m.\u001b[39m\u001b[90m.\u001b[39m\u001b[90m.\u001b[39m\u001b[90m.\u001b[39m\u001b[90m.\u001b[39m\u001b[90m.\u001b[39m\u001b[90m.\u001b[39m\u001b[90m.\u001b[39m\u001b[90m.\u001b[39m\u001b[90m.\u001b[39m\u001b[90m.\u001b[39m\u001b[90m.\u001b[39m\u001b[90m.\u001b[39m\u001b[90m.\u001b[39m\u001b[90m.\u001b[39m\u001b[90m.\u001b[39m\u001b[90m.\u001b[39m\u001b[90m.\u001b[39m\u001b[90m.\u001b[39m\u001b[90m.\u001b[39m\u001b[90m.\u001b[39m\u001b[90m.\u001b[39m\u001b[90m.\u001b[39m\u001b[90m.\u001b[39m\u001b[90m.\u001b[39m\u001b[90m.\u001b[39m\u001b[90m.\u001b[39m \u001b[32;1mDONE\u001b[39;22m\n",
      "  laravel/tinker \u001b[90m.\u001b[39m\u001b[90m.\u001b[39m\u001b[90m.\u001b[39m\u001b[90m.\u001b[39m\u001b[90m.\u001b[39m\u001b[90m.\u001b[39m\u001b[90m.\u001b[39m\u001b[90m.\u001b[39m\u001b[90m.\u001b[39m\u001b[90m.\u001b[39m\u001b[90m.\u001b[39m\u001b[90m.\u001b[39m\u001b[90m.\u001b[39m\u001b[90m.\u001b[39m\u001b[90m.\u001b[39m\u001b[90m.\u001b[39m\u001b[90m.\u001b[39m\u001b[90m.\u001b[39m\u001b[90m.\u001b[39m\u001b[90m.\u001b[39m\u001b[90m.\u001b[39m\u001b[90m.\u001b[39m\u001b[90m.\u001b[39m\u001b[90m.\u001b[39m\u001b[90m.\u001b[39m\u001b[90m.\u001b[39m\u001b[90m.\u001b[39m\u001b[90m.\u001b[39m\u001b[90m.\u001b[39m\u001b[90m.\u001b[39m\u001b[90m.\u001b[39m\u001b[90m.\u001b[39m\u001b[90m.\u001b[39m\u001b[90m.\u001b[39m\u001b[90m.\u001b[39m\u001b[90m.\u001b[39m\u001b[90m.\u001b[39m\u001b[90m.\u001b[39m\u001b[90m.\u001b[39m\u001b[90m.\u001b[39m\u001b[90m.\u001b[39m\u001b[90m.\u001b[39m\u001b[90m.\u001b[39m\u001b[90m.\u001b[39m\u001b[90m.\u001b[39m\u001b[90m.\u001b[39m\u001b[90m.\u001b[39m\u001b[90m.\u001b[39m\u001b[90m.\u001b[39m\u001b[90m.\u001b[39m\u001b[90m.\u001b[39m\u001b[90m.\u001b[39m\u001b[90m.\u001b[39m\u001b[90m.\u001b[39m\u001b[90m.\u001b[39m\u001b[90m.\u001b[39m \u001b[32;1mDONE\u001b[39;22m\n",
      "  nesbot/carbon \u001b[90m.\u001b[39m\u001b[90m.\u001b[39m\u001b[90m.\u001b[39m\u001b[90m.\u001b[39m\u001b[90m.\u001b[39m\u001b[90m.\u001b[39m\u001b[90m.\u001b[39m\u001b[90m.\u001b[39m\u001b[90m.\u001b[39m\u001b[90m.\u001b[39m\u001b[90m.\u001b[39m\u001b[90m.\u001b[39m\u001b[90m.\u001b[39m\u001b[90m.\u001b[39m\u001b[90m.\u001b[39m\u001b[90m.\u001b[39m\u001b[90m.\u001b[39m\u001b[90m.\u001b[39m\u001b[90m.\u001b[39m\u001b[90m.\u001b[39m\u001b[90m.\u001b[39m\u001b[90m.\u001b[39m\u001b[90m.\u001b[39m\u001b[90m.\u001b[39m\u001b[90m.\u001b[39m\u001b[90m.\u001b[39m\u001b[90m.\u001b[39m\u001b[90m.\u001b[39m\u001b[90m.\u001b[39m\u001b[90m.\u001b[39m\u001b[90m.\u001b[39m\u001b[90m.\u001b[39m\u001b[90m.\u001b[39m\u001b[90m.\u001b[39m\u001b[90m.\u001b[39m\u001b[90m.\u001b[39m\u001b[90m.\u001b[39m\u001b[90m.\u001b[39m\u001b[90m.\u001b[39m\u001b[90m.\u001b[39m\u001b[90m.\u001b[39m\u001b[90m.\u001b[39m\u001b[90m.\u001b[39m\u001b[90m.\u001b[39m\u001b[90m.\u001b[39m\u001b[90m.\u001b[39m\u001b[90m.\u001b[39m\u001b[90m.\u001b[39m\u001b[90m.\u001b[39m\u001b[90m.\u001b[39m\u001b[90m.\u001b[39m\u001b[90m.\u001b[39m\u001b[90m.\u001b[39m\u001b[90m.\u001b[39m\u001b[90m.\u001b[39m\u001b[90m.\u001b[39m\u001b[90m.\u001b[39m \u001b[32;1mDONE\u001b[39;22m\n",
      "  nunomaduro/collision \u001b[90m.\u001b[39m\u001b[90m.\u001b[39m\u001b[90m.\u001b[39m\u001b[90m.\u001b[39m\u001b[90m.\u001b[39m\u001b[90m.\u001b[39m\u001b[90m.\u001b[39m\u001b[90m.\u001b[39m\u001b[90m.\u001b[39m\u001b[90m.\u001b[39m\u001b[90m.\u001b[39m\u001b[90m.\u001b[39m\u001b[90m.\u001b[39m\u001b[90m.\u001b[39m\u001b[90m.\u001b[39m\u001b[90m.\u001b[39m\u001b[90m.\u001b[39m\u001b[90m.\u001b[39m\u001b[90m.\u001b[39m\u001b[90m.\u001b[39m\u001b[90m.\u001b[39m\u001b[90m.\u001b[39m\u001b[90m.\u001b[39m\u001b[90m.\u001b[39m\u001b[90m.\u001b[39m\u001b[90m.\u001b[39m\u001b[90m.\u001b[39m\u001b[90m.\u001b[39m\u001b[90m.\u001b[39m\u001b[90m.\u001b[39m\u001b[90m.\u001b[39m\u001b[90m.\u001b[39m\u001b[90m.\u001b[39m\u001b[90m.\u001b[39m\u001b[90m.\u001b[39m\u001b[90m.\u001b[39m\u001b[90m.\u001b[39m\u001b[90m.\u001b[39m\u001b[90m.\u001b[39m\u001b[90m.\u001b[39m\u001b[90m.\u001b[39m\u001b[90m.\u001b[39m\u001b[90m.\u001b[39m\u001b[90m.\u001b[39m\u001b[90m.\u001b[39m\u001b[90m.\u001b[39m\u001b[90m.\u001b[39m\u001b[90m.\u001b[39m\u001b[90m.\u001b[39m\u001b[90m.\u001b[39m \u001b[32;1mDONE\u001b[39;22m\n",
      "  nunomaduro/termwind \u001b[90m.\u001b[39m\u001b[90m.\u001b[39m\u001b[90m.\u001b[39m\u001b[90m.\u001b[39m\u001b[90m.\u001b[39m\u001b[90m.\u001b[39m\u001b[90m.\u001b[39m\u001b[90m.\u001b[39m\u001b[90m.\u001b[39m\u001b[90m.\u001b[39m\u001b[90m.\u001b[39m\u001b[90m.\u001b[39m\u001b[90m.\u001b[39m\u001b[90m.\u001b[39m\u001b[90m.\u001b[39m\u001b[90m.\u001b[39m\u001b[90m.\u001b[39m\u001b[90m.\u001b[39m\u001b[90m.\u001b[39m\u001b[90m.\u001b[39m\u001b[90m.\u001b[39m\u001b[90m.\u001b[39m\u001b[90m.\u001b[39m\u001b[90m.\u001b[39m\u001b[90m.\u001b[39m\u001b[90m.\u001b[39m\u001b[90m.\u001b[39m\u001b[90m.\u001b[39m\u001b[90m.\u001b[39m\u001b[90m.\u001b[39m\u001b[90m.\u001b[39m\u001b[90m.\u001b[39m\u001b[90m.\u001b[39m\u001b[90m.\u001b[39m\u001b[90m.\u001b[39m\u001b[90m.\u001b[39m\u001b[90m.\u001b[39m\u001b[90m.\u001b[39m\u001b[90m.\u001b[39m\u001b[90m.\u001b[39m\u001b[90m.\u001b[39m\u001b[90m.\u001b[39m\u001b[90m.\u001b[39m\u001b[90m.\u001b[39m\u001b[90m.\u001b[39m\u001b[90m.\u001b[39m\u001b[90m.\u001b[39m\u001b[90m.\u001b[39m\u001b[90m.\u001b[39m\u001b[90m.\u001b[39m\u001b[90m.\u001b[39m \u001b[32;1mDONE\u001b[39;22m\n",
      "  spatie/laravel-ignition \u001b[90m.\u001b[39m\u001b[90m.\u001b[39m\u001b[90m.\u001b[39m\u001b[90m.\u001b[39m\u001b[90m.\u001b[39m\u001b[90m.\u001b[39m\u001b[90m.\u001b[39m\u001b[90m.\u001b[39m\u001b[90m.\u001b[39m\u001b[90m.\u001b[39m\u001b[90m.\u001b[39m\u001b[90m.\u001b[39m\u001b[90m.\u001b[39m\u001b[90m.\u001b[39m\u001b[90m.\u001b[39m\u001b[90m.\u001b[39m\u001b[90m.\u001b[39m\u001b[90m.\u001b[39m\u001b[90m.\u001b[39m\u001b[90m.\u001b[39m\u001b[90m.\u001b[39m\u001b[90m.\u001b[39m\u001b[90m.\u001b[39m\u001b[90m.\u001b[39m\u001b[90m.\u001b[39m\u001b[90m.\u001b[39m\u001b[90m.\u001b[39m\u001b[90m.\u001b[39m\u001b[90m.\u001b[39m\u001b[90m.\u001b[39m\u001b[90m.\u001b[39m\u001b[90m.\u001b[39m\u001b[90m.\u001b[39m\u001b[90m.\u001b[39m\u001b[90m.\u001b[39m\u001b[90m.\u001b[39m\u001b[90m.\u001b[39m\u001b[90m.\u001b[39m\u001b[90m.\u001b[39m\u001b[90m.\u001b[39m\u001b[90m.\u001b[39m\u001b[90m.\u001b[39m\u001b[90m.\u001b[39m\u001b[90m.\u001b[39m\u001b[90m.\u001b[39m\u001b[90m.\u001b[39m\u001b[90m.\u001b[39m \u001b[32;1mDONE\u001b[39;22m\n",
      "\n",
      "\u001b[32m97 packages you are using are looking for funding.\u001b[39m\n",
      "\u001b[32mUse the `composer fund` command to find out more!\u001b[39m\n"
     ]
    }
   ],
   "source": [
    "! composer install"
   ]
  },
  {
   "cell_type": "code",
   "execution_count": 5,
   "metadata": {},
   "outputs": [
    {
     "name": "stdout",
     "output_type": "stream",
     "text": [
      "\u001b[32mBuilding Actor classes for suites: Acceptance\u001b[39m\n",
      " -> AcceptanceTesterActions.php generated successfully. 220 methods added\n",
      "\u001b[32mTestsCodeception\\AcceptanceTester\u001b[39m includes modules: Asserts, PhpBrowser, Db\n"
     ]
    }
   ],
   "source": [
    "! vendor/bin/codecept build"
   ]
  },
  {
   "cell_type": "code",
   "execution_count": 6,
   "metadata": {},
   "outputs": [
    {
     "name": "stdout",
     "output_type": "stream",
     "text": [
      "Loaded config \u001b[33mdefault\u001b[39m from \"/home/student/PHP/php_2022_bukmacher/09_laravel_tdd/project/./.php-cs-fixer.dist.php\".\n",
      "Using cache file \".php-cs-fixer.cache\".\n",
      "\n",
      "Found 0 of 180 files that can be fixed in 0.061 seconds, 20.000 MB memory used\n"
     ]
    }
   ],
   "source": [
    "! vendor/bin/php-cs-fixer fix --diff --dry-run ."
   ]
  },
  {
   "cell_type": "code",
   "execution_count": 7,
   "metadata": {},
   "outputs": [
    {
     "name": "stdout",
     "output_type": "stream",
     "text": [
      "\n",
      "\u001b[33m ! [NOTE] The Xdebug PHP extension is active, but \"--xdebug\" is not used. This  \u001b[39m\n",
      "\u001b[33m !        may slow down performance and the process will not halt at            \u001b[39m\n",
      "\u001b[33m !        breakpoints.                                                          \u001b[39m\n",
      "\n",
      "   0/123 [░░░░░░░░░░░░░░░░░░░░░░░░░░░░]   0%\u001b[1G\u001b[2K  20/123 [▓▓▓▓░░░░░░░░░░░░░░░░░░░░░░░░]  16%\u001b[1G\u001b[2K  40/123 [▓▓▓▓▓▓▓▓▓░░░░░░░░░░░░░░░░░░░]  32%\u001b[1G\u001b[2K  60/123 [▓▓▓▓▓▓▓▓▓▓▓▓▓░░░░░░░░░░░░░░░]  48%\u001b[1G\u001b[2K  80/123 [▓▓▓▓▓▓▓▓▓▓▓▓▓▓▓▓▓▓░░░░░░░░░░]  65%\u001b[1G\u001b[2K 103/123 [▓▓▓▓▓▓▓▓▓▓▓▓▓▓▓▓▓▓▓▓▓▓▓░░░░░]  83%\u001b[1G\u001b[2K 123/123 [▓▓▓▓▓▓▓▓▓▓▓▓▓▓▓▓▓▓▓▓▓▓▓▓▓▓▓▓] 100%\n",
      "\n",
      "\n",
      "\u001b[30;42m                                                                                \u001b[39;49m\n",
      "\u001b[30;42m [OK] No errors                                                                 \u001b[39;49m\n",
      "\u001b[30;42m                                                                                \u001b[39;49m\n",
      "\n"
     ]
    }
   ],
   "source": [
    "! vendor/bin/phpstan analyze -c phpstan.neon"
   ]
  },
  {
   "cell_type": "code",
   "execution_count": 8,
   "metadata": {},
   "outputs": [
    {
     "name": "stdout",
     "output_type": "stream",
     "text": [
      "phpcpd 6.0.3 by Sebastian Bergmann.\n",
      "\n",
      "Found 28 clones with 443 duplicated lines in 15 files:\n",
      "\n",
      "  - /home/student/PHP/php_2022_bukmacher/09_laravel_tdd/project/lang/en/validation.php:122-175 (53 lines)\n",
      "    /home/student/PHP/php_2022_bukmacher/09_laravel_tdd/project/lang/pl/validation.php:122-175\n",
      "\n",
      "  - /home/student/PHP/php_2022_bukmacher/09_laravel_tdd/project/lang/en/validation.php:49-102 (53 lines)\n",
      "    /home/student/PHP/php_2022_bukmacher/09_laravel_tdd/project/lang/pl/validation.php:49-102\n",
      "\n",
      "  - /home/student/PHP/php_2022_bukmacher/09_laravel_tdd/project/app/Http/Controllers/BetsController.php:76-124 (48 lines)\n",
      "    /home/student/PHP/php_2022_bukmacher/09_laravel_tdd/project/resources/views/livebets.blade.php:82-130\n",
      "\n",
      "  - /home/student/PHP/php_2022_bukmacher/09_laravel_tdd/project/app/Http/Controllers/BetsController.php:76-113 (37 lines)\n",
      "    /home/student/PHP/php_2022_bukmacher/09_laravel_tdd/project/resources/views/results.blade.php:54-91\n",
      "\n",
      "  - /home/student/PHP/php_2022_bukmacher/09_laravel_tdd/project/app/Http/Controllers/BetsController.php:119-144 (25 lines)\n",
      "    /home/student/PHP/php_2022_bukmacher/09_laravel_tdd/project/app/Http/Controllers/SpecialBetsController.php:80-105\n",
      "\n",
      "  - /home/student/PHP/php_2022_bukmacher/09_laravel_tdd/project/app/Http/Controllers/BetsController.php:29-49 (20 lines)\n",
      "    /home/student/PHP/php_2022_bukmacher/09_laravel_tdd/project/app/Http/Controllers/SpecialBetsController.php:27-47\n",
      "\n",
      "  - /home/student/PHP/php_2022_bukmacher/09_laravel_tdd/project/lang/en/validation.php:103-122 (19 lines)\n",
      "    /home/student/PHP/php_2022_bukmacher/09_laravel_tdd/project/lang/pl/validation.php:103-122\n",
      "\n",
      "  - /home/student/PHP/php_2022_bukmacher/09_laravel_tdd/project/lang/en/validation.php:16-35 (19 lines)\n",
      "    /home/student/PHP/php_2022_bukmacher/09_laravel_tdd/project/lang/pl/validation.php:16-35\n",
      "\n",
      "  - /home/student/PHP/php_2022_bukmacher/09_laravel_tdd/project/lang/en/validation.php:35-49 (14 lines)\n",
      "    /home/student/PHP/php_2022_bukmacher/09_laravel_tdd/project/lang/pl/validation.php:35-49\n",
      "\n",
      "  - /home/student/PHP/php_2022_bukmacher/09_laravel_tdd/project/app/Http/Controllers/BetsController.php:29-42 (13 lines)\n",
      "    /home/student/PHP/php_2022_bukmacher/09_laravel_tdd/project/app/Http/Controllers/LiveBetsController.php:50-63\n",
      "\n",
      "  - /home/student/PHP/php_2022_bukmacher/09_laravel_tdd/project/routes/web.php:102-112 (10 lines)\n",
      "    /home/student/PHP/php_2022_bukmacher/09_laravel_tdd/project/routes/web.php:120-130\n",
      "\n",
      "  - /home/student/PHP/php_2022_bukmacher/09_laravel_tdd/project/app/Http/Controllers/BetsController.php:64-74 (10 lines)\n",
      "    /home/student/PHP/php_2022_bukmacher/09_laravel_tdd/project/app/Http/Controllers/SpecialBetsController.php:62-72\n",
      "\n",
      "  - /home/student/PHP/php_2022_bukmacher/09_laravel_tdd/project/app/Http/Controllers/BetsController.php:49-59 (10 lines)\n",
      "    /home/student/PHP/php_2022_bukmacher/09_laravel_tdd/project/app/Http/Controllers/SpecialBetsController.php:47-57\n",
      "\n",
      "  - /home/student/PHP/php_2022_bukmacher/09_laravel_tdd/project/app/Http/Controllers/BetsController.php:117-127 (10 lines)\n",
      "    /home/student/PHP/php_2022_bukmacher/09_laravel_tdd/project/app/Http/Controllers/LiveBetsController.php:124-134\n",
      "\n",
      "  - /home/student/PHP/php_2022_bukmacher/09_laravel_tdd/project/app/Http/Controllers/BetsController.php:108-118 (10 lines)\n",
      "    /home/student/PHP/php_2022_bukmacher/09_laravel_tdd/project/app/Http/Controllers/LiveBetsController.php:115-125\n",
      "\n",
      "  - /home/student/PHP/php_2022_bukmacher/09_laravel_tdd/project/app/Http/Controllers/BetsController.php:99-109 (10 lines)\n",
      "    /home/student/PHP/php_2022_bukmacher/09_laravel_tdd/project/app/Http/Controllers/LiveBetsController.php:106-116\n",
      "\n",
      "  - /home/student/PHP/php_2022_bukmacher/09_laravel_tdd/project/app/Http/Controllers/BetsController.php:90-100 (10 lines)\n",
      "    /home/student/PHP/php_2022_bukmacher/09_laravel_tdd/project/app/Http/Controllers/LiveBetsController.php:97-107\n",
      "\n",
      "  - /home/student/PHP/php_2022_bukmacher/09_laravel_tdd/project/app/Http/Controllers/BetsController.php:18-26 (8 lines)\n",
      "    /home/student/PHP/php_2022_bukmacher/09_laravel_tdd/project/app/Http/Controllers/SpecialBetsController.php:19-27\n",
      "\n",
      "  - /home/student/PHP/php_2022_bukmacher/09_laravel_tdd/project/app/Http/Controllers/Account/DeleteAccountController.php:49-57 (8 lines)\n",
      "    /home/student/PHP/php_2022_bukmacher/09_laravel_tdd/project/app/Http/Controllers/Account/DeleteAccountController.php:64-72\n",
      "\n",
      "  - /home/student/PHP/php_2022_bukmacher/09_laravel_tdd/project/app/Http/Controllers/BetsController.php:161-168 (7 lines)\n",
      "    /home/student/PHP/php_2022_bukmacher/09_laravel_tdd/project/app/Http/Controllers/SpecialBetsController.php:109-116\n",
      "\n",
      "  - /home/student/PHP/php_2022_bukmacher/09_laravel_tdd/project/app/Http/Controllers/BetResultController.php:84-91 (7 lines)\n",
      "    /home/student/PHP/php_2022_bukmacher/09_laravel_tdd/project/app/Http/Controllers/BetResultController.php:102-109\n",
      "\n",
      "  - /home/student/PHP/php_2022_bukmacher/09_laravel_tdd/project/app/Http/Controllers/BetsController.php:76-82 (6 lines)\n",
      "    /home/student/PHP/php_2022_bukmacher/09_laravel_tdd/project/resources/views/bets.blade.php:82-88\n",
      "\n",
      "  - /home/student/PHP/php_2022_bukmacher/09_laravel_tdd/project/resources/views/account/history.blade.php:462-468 (6 lines)\n",
      "    /home/student/PHP/php_2022_bukmacher/09_laravel_tdd/project/resources/views/account/history.blade.php:470-476\n",
      "    /home/student/PHP/php_2022_bukmacher/09_laravel_tdd/project/resources/views/account/history.blade.php:478-484\n",
      "\n",
      "  - /home/student/PHP/php_2022_bukmacher/09_laravel_tdd/project/database/seeders/EventsSeeder.php:31-37 (6 lines)\n",
      "    /home/student/PHP/php_2022_bukmacher/09_laravel_tdd/project/database/seeders/SpecialEventsSeeder.php:30-36\n",
      "\n",
      "  - /home/student/PHP/php_2022_bukmacher/09_laravel_tdd/project/app/Http/Controllers/BetResultController.php:80-85 (5 lines)\n",
      "    /home/student/PHP/php_2022_bukmacher/09_laravel_tdd/project/app/Http/Controllers/BetResultController.php:94-99\n",
      "\n",
      "  - /home/student/PHP/php_2022_bukmacher/09_laravel_tdd/project/app/Http/Controllers/Account/AccountController.php:19-24 (5 lines)\n",
      "    /home/student/PHP/php_2022_bukmacher/09_laravel_tdd/project/app/Http/Controllers/Account/DeleteAccountController.php:42-47\n",
      "\n",
      "  - /home/student/PHP/php_2022_bukmacher/09_laravel_tdd/project/app/Http/Controllers/BetsController.php:75-79 (4 lines)\n",
      "    /home/student/PHP/php_2022_bukmacher/09_laravel_tdd/project/app/Http/Controllers/LiveBetsController.php:83-87\n",
      "\n",
      "  - /home/student/PHP/php_2022_bukmacher/09_laravel_tdd/project/app/Http/Controllers/BetResultController.php:36-40 (4 lines)\n",
      "    /home/student/PHP/php_2022_bukmacher/09_laravel_tdd/project/app/Http/Controllers/BetResultController.php:66-70\n",
      "\n",
      "5.93% duplicated lines out of 7471 total lines of code.\n",
      "Average size of duplication is 15 lines, largest clone has 53 of lines\n",
      "\n",
      "Time: 00:00.021, Memory: 10.00 MB\n"
     ]
    }
   ],
   "source": [
    "! vendor/bin/phpcpd . --fuzzy --min-lines 1 --min-tokens 20 --exclude vendor --exclude tests* --exclude config --exclude storage"
   ]
  },
  {
   "cell_type": "code",
   "execution_count": 9,
   "metadata": {},
   "outputs": [
    {
     "name": "stdout",
     "output_type": "stream",
     "text": [
      "cp: cannot stat '.env.example': No such file or directory\r\n"
     ]
    }
   ],
   "source": [
    "! cp .env.example .env"
   ]
  },
  {
   "cell_type": "code",
   "execution_count": 6,
   "metadata": {
    "scrolled": true
   },
   "outputs": [
    {
     "name": "stdout",
     "output_type": "stream",
     "text": [
      "\r\n",
      "  \u001b[37;44m INFO \u001b[39;49m Application key set successfully.  \r\n",
      "\r\n"
     ]
    }
   ],
   "source": [
    "! php artisan key:generate"
   ]
  },
  {
   "cell_type": "code",
   "execution_count": 7,
   "metadata": {},
   "outputs": [
    {
     "name": "stdout",
     "output_type": "stream",
     "text": [
      "\n",
      "  Dropping all tables \u001b[90m.\u001b[39m\u001b[90m.\u001b[39m\u001b[90m.\u001b[39m\u001b[90m.\u001b[39m\u001b[90m.\u001b[39m\u001b[90m.\u001b[39m\u001b[90m.\u001b[39m\u001b[90m.\u001b[39m\u001b[90m.\u001b[39m\u001b[90m.\u001b[39m\u001b[90m.\u001b[39m\u001b[90m.\u001b[39m\u001b[90m.\u001b[39m\u001b[90m.\u001b[39m\u001b[90m.\u001b[39m\u001b[90m.\u001b[39m\u001b[90m.\u001b[39m\u001b[90m.\u001b[39m\u001b[90m.\u001b[39m\u001b[90m.\u001b[39m\u001b[90m.\u001b[39m\u001b[90m.\u001b[39m\u001b[90m.\u001b[39m\u001b[90m.\u001b[39m\u001b[90m.\u001b[39m\u001b[90m.\u001b[39m\u001b[90m.\u001b[39m\u001b[90m.\u001b[39m\u001b[90m.\u001b[39m\u001b[90m.\u001b[39m\u001b[90m.\u001b[39m\u001b[90m.\u001b[39m\u001b[90m.\u001b[39m\u001b[90m.\u001b[39m\u001b[90m.\u001b[39m\u001b[90m.\u001b[39m\u001b[90m.\u001b[39m\u001b[90m.\u001b[39m\u001b[90m.\u001b[39m\u001b[90m.\u001b[39m\u001b[90m.\u001b[39m\u001b[90m.\u001b[39m\u001b[90m.\u001b[39m\u001b[90m.\u001b[39m\u001b[90m.\u001b[39m\u001b[90m.\u001b[39m\u001b[90m 18ms\u001b[39m \u001b[32;1mDONE\u001b[39;22m\n",
      "\n",
      "  \u001b[37;44m INFO \u001b[39;49m Preparing database.  \n",
      "\n",
      "  Creating migration table \u001b[90m.\u001b[39m\u001b[90m.\u001b[39m\u001b[90m.\u001b[39m\u001b[90m.\u001b[39m\u001b[90m.\u001b[39m\u001b[90m.\u001b[39m\u001b[90m.\u001b[39m\u001b[90m.\u001b[39m\u001b[90m.\u001b[39m\u001b[90m.\u001b[39m\u001b[90m.\u001b[39m\u001b[90m.\u001b[39m\u001b[90m.\u001b[39m\u001b[90m.\u001b[39m\u001b[90m.\u001b[39m\u001b[90m.\u001b[39m\u001b[90m.\u001b[39m\u001b[90m.\u001b[39m\u001b[90m.\u001b[39m\u001b[90m.\u001b[39m\u001b[90m.\u001b[39m\u001b[90m.\u001b[39m\u001b[90m.\u001b[39m\u001b[90m.\u001b[39m\u001b[90m.\u001b[39m\u001b[90m.\u001b[39m\u001b[90m.\u001b[39m\u001b[90m.\u001b[39m\u001b[90m.\u001b[39m\u001b[90m.\u001b[39m\u001b[90m.\u001b[39m\u001b[90m.\u001b[39m\u001b[90m.\u001b[39m\u001b[90m.\u001b[39m\u001b[90m.\u001b[39m\u001b[90m.\u001b[39m\u001b[90m.\u001b[39m\u001b[90m.\u001b[39m\u001b[90m.\u001b[39m\u001b[90m.\u001b[39m\u001b[90m.\u001b[39m\u001b[90m 51ms\u001b[39m \u001b[32;1mDONE\u001b[39;22m\n",
      "\n",
      "  \u001b[37;44m INFO \u001b[39;49m Running migrations.  \n",
      "\n",
      "  2014_10_12_000000_create_users_table \u001b[90m.\u001b[39m\u001b[90m.\u001b[39m\u001b[90m.\u001b[39m\u001b[90m.\u001b[39m\u001b[90m.\u001b[39m\u001b[90m.\u001b[39m\u001b[90m.\u001b[39m\u001b[90m.\u001b[39m\u001b[90m.\u001b[39m\u001b[90m.\u001b[39m\u001b[90m.\u001b[39m\u001b[90m.\u001b[39m\u001b[90m.\u001b[39m\u001b[90m.\u001b[39m\u001b[90m.\u001b[39m\u001b[90m.\u001b[39m\u001b[90m.\u001b[39m\u001b[90m.\u001b[39m\u001b[90m.\u001b[39m\u001b[90m.\u001b[39m\u001b[90m.\u001b[39m\u001b[90m.\u001b[39m\u001b[90m.\u001b[39m\u001b[90m.\u001b[39m\u001b[90m.\u001b[39m\u001b[90m.\u001b[39m\u001b[90m.\u001b[39m\u001b[90m.\u001b[39m\u001b[90m 211ms\u001b[39m \u001b[32;1mDONE\u001b[39;22m\n",
      "  2014_10_12_100000_create_password_resets_table \u001b[90m.\u001b[39m\u001b[90m.\u001b[39m\u001b[90m.\u001b[39m\u001b[90m.\u001b[39m\u001b[90m.\u001b[39m\u001b[90m.\u001b[39m\u001b[90m.\u001b[39m\u001b[90m.\u001b[39m\u001b[90m.\u001b[39m\u001b[90m.\u001b[39m\u001b[90m.\u001b[39m\u001b[90m.\u001b[39m\u001b[90m.\u001b[39m\u001b[90m.\u001b[39m\u001b[90m.\u001b[39m\u001b[90m.\u001b[39m\u001b[90m.\u001b[39m\u001b[90m.\u001b[39m\u001b[90m 108ms\u001b[39m \u001b[32;1mDONE\u001b[39;22m\n",
      "  2019_08_19_000000_create_failed_jobs_table \u001b[90m.\u001b[39m\u001b[90m.\u001b[39m\u001b[90m.\u001b[39m\u001b[90m.\u001b[39m\u001b[90m.\u001b[39m\u001b[90m.\u001b[39m\u001b[90m.\u001b[39m\u001b[90m.\u001b[39m\u001b[90m.\u001b[39m\u001b[90m.\u001b[39m\u001b[90m.\u001b[39m\u001b[90m.\u001b[39m\u001b[90m.\u001b[39m\u001b[90m.\u001b[39m\u001b[90m.\u001b[39m\u001b[90m.\u001b[39m\u001b[90m.\u001b[39m\u001b[90m.\u001b[39m\u001b[90m.\u001b[39m\u001b[90m.\u001b[39m\u001b[90m.\u001b[39m\u001b[90m.\u001b[39m\u001b[90m 105ms\u001b[39m \u001b[32;1mDONE\u001b[39;22m\n",
      "  2019_12_14_000001_create_personal_access_tokens_table \u001b[90m.\u001b[39m\u001b[90m.\u001b[39m\u001b[90m.\u001b[39m\u001b[90m.\u001b[39m\u001b[90m.\u001b[39m\u001b[90m.\u001b[39m\u001b[90m.\u001b[39m\u001b[90m.\u001b[39m\u001b[90m.\u001b[39m\u001b[90m.\u001b[39m\u001b[90m.\u001b[39m\u001b[90m 120ms\u001b[39m \u001b[32;1mDONE\u001b[39;22m\n",
      "  2023_01_08_104417_create_premiums_table \u001b[90m.\u001b[39m\u001b[90m.\u001b[39m\u001b[90m.\u001b[39m\u001b[90m.\u001b[39m\u001b[90m.\u001b[39m\u001b[90m.\u001b[39m\u001b[90m.\u001b[39m\u001b[90m.\u001b[39m\u001b[90m.\u001b[39m\u001b[90m.\u001b[39m\u001b[90m.\u001b[39m\u001b[90m.\u001b[39m\u001b[90m.\u001b[39m\u001b[90m.\u001b[39m\u001b[90m.\u001b[39m\u001b[90m.\u001b[39m\u001b[90m.\u001b[39m\u001b[90m.\u001b[39m\u001b[90m.\u001b[39m\u001b[90m.\u001b[39m\u001b[90m.\u001b[39m\u001b[90m.\u001b[39m\u001b[90m.\u001b[39m\u001b[90m.\u001b[39m\u001b[90m.\u001b[39m\u001b[90m.\u001b[39m\u001b[90m 60ms\u001b[39m \u001b[32;1mDONE\u001b[39;22m\n",
      "  2023_01_08_105019_create_events_table \u001b[90m.\u001b[39m\u001b[90m.\u001b[39m\u001b[90m.\u001b[39m\u001b[90m.\u001b[39m\u001b[90m.\u001b[39m\u001b[90m.\u001b[39m\u001b[90m.\u001b[39m\u001b[90m.\u001b[39m\u001b[90m.\u001b[39m\u001b[90m.\u001b[39m\u001b[90m.\u001b[39m\u001b[90m.\u001b[39m\u001b[90m.\u001b[39m\u001b[90m.\u001b[39m\u001b[90m.\u001b[39m\u001b[90m.\u001b[39m\u001b[90m.\u001b[39m\u001b[90m.\u001b[39m\u001b[90m.\u001b[39m\u001b[90m.\u001b[39m\u001b[90m.\u001b[39m\u001b[90m.\u001b[39m\u001b[90m.\u001b[39m\u001b[90m.\u001b[39m\u001b[90m.\u001b[39m\u001b[90m.\u001b[39m\u001b[90m.\u001b[39m\u001b[90m.\u001b[39m\u001b[90m 53ms\u001b[39m \u001b[32;1mDONE\u001b[39;22m\n",
      "  2023_01_08_105454_create_odds_table \u001b[90m.\u001b[39m\u001b[90m.\u001b[39m\u001b[90m.\u001b[39m\u001b[90m.\u001b[39m\u001b[90m.\u001b[39m\u001b[90m.\u001b[39m\u001b[90m.\u001b[39m\u001b[90m.\u001b[39m\u001b[90m.\u001b[39m\u001b[90m.\u001b[39m\u001b[90m.\u001b[39m\u001b[90m.\u001b[39m\u001b[90m.\u001b[39m\u001b[90m.\u001b[39m\u001b[90m.\u001b[39m\u001b[90m.\u001b[39m\u001b[90m.\u001b[39m\u001b[90m.\u001b[39m\u001b[90m.\u001b[39m\u001b[90m.\u001b[39m\u001b[90m.\u001b[39m\u001b[90m.\u001b[39m\u001b[90m.\u001b[39m\u001b[90m.\u001b[39m\u001b[90m.\u001b[39m\u001b[90m.\u001b[39m\u001b[90m.\u001b[39m\u001b[90m.\u001b[39m\u001b[90m.\u001b[39m\u001b[90m.\u001b[39m\u001b[90m 91ms\u001b[39m \u001b[32;1mDONE\u001b[39;22m\n",
      "  2023_01_08_105842_create_specials_table \u001b[90m.\u001b[39m\u001b[90m.\u001b[39m\u001b[90m.\u001b[39m\u001b[90m.\u001b[39m\u001b[90m.\u001b[39m\u001b[90m.\u001b[39m\u001b[90m.\u001b[39m\u001b[90m.\u001b[39m\u001b[90m.\u001b[39m\u001b[90m.\u001b[39m\u001b[90m.\u001b[39m\u001b[90m.\u001b[39m\u001b[90m.\u001b[39m\u001b[90m.\u001b[39m\u001b[90m.\u001b[39m\u001b[90m.\u001b[39m\u001b[90m.\u001b[39m\u001b[90m.\u001b[39m\u001b[90m.\u001b[39m\u001b[90m.\u001b[39m\u001b[90m.\u001b[39m\u001b[90m.\u001b[39m\u001b[90m.\u001b[39m\u001b[90m.\u001b[39m\u001b[90m.\u001b[39m\u001b[90m 107ms\u001b[39m \u001b[32;1mDONE\u001b[39;22m\n",
      "  2023_01_11_140011_create_blik_codes_table \u001b[90m.\u001b[39m\u001b[90m.\u001b[39m\u001b[90m.\u001b[39m\u001b[90m.\u001b[39m\u001b[90m.\u001b[39m\u001b[90m.\u001b[39m\u001b[90m.\u001b[39m\u001b[90m.\u001b[39m\u001b[90m.\u001b[39m\u001b[90m.\u001b[39m\u001b[90m.\u001b[39m\u001b[90m.\u001b[39m\u001b[90m.\u001b[39m\u001b[90m.\u001b[39m\u001b[90m.\u001b[39m\u001b[90m.\u001b[39m\u001b[90m.\u001b[39m\u001b[90m.\u001b[39m\u001b[90m.\u001b[39m\u001b[90m.\u001b[39m\u001b[90m.\u001b[39m\u001b[90m.\u001b[39m\u001b[90m.\u001b[39m\u001b[90m 134ms\u001b[39m \u001b[32;1mDONE\u001b[39;22m\n",
      "  2023_01_11_142420_create_tests_table \u001b[90m.\u001b[39m\u001b[90m.\u001b[39m\u001b[90m.\u001b[39m\u001b[90m.\u001b[39m\u001b[90m.\u001b[39m\u001b[90m.\u001b[39m\u001b[90m.\u001b[39m\u001b[90m.\u001b[39m\u001b[90m.\u001b[39m\u001b[90m.\u001b[39m\u001b[90m.\u001b[39m\u001b[90m.\u001b[39m\u001b[90m.\u001b[39m\u001b[90m.\u001b[39m\u001b[90m.\u001b[39m\u001b[90m.\u001b[39m\u001b[90m.\u001b[39m\u001b[90m.\u001b[39m\u001b[90m.\u001b[39m\u001b[90m.\u001b[39m\u001b[90m.\u001b[39m\u001b[90m.\u001b[39m\u001b[90m.\u001b[39m\u001b[90m.\u001b[39m\u001b[90m.\u001b[39m\u001b[90m.\u001b[39m\u001b[90m.\u001b[39m\u001b[90m.\u001b[39m\u001b[90m.\u001b[39m\u001b[90m 88ms\u001b[39m \u001b[32;1mDONE\u001b[39;22m\n",
      "  2023_01_11_173825_create_bets_table \u001b[90m.\u001b[39m\u001b[90m.\u001b[39m\u001b[90m.\u001b[39m\u001b[90m.\u001b[39m\u001b[90m.\u001b[39m\u001b[90m.\u001b[39m\u001b[90m.\u001b[39m\u001b[90m.\u001b[39m\u001b[90m.\u001b[39m\u001b[90m.\u001b[39m\u001b[90m.\u001b[39m\u001b[90m.\u001b[39m\u001b[90m.\u001b[39m\u001b[90m.\u001b[39m\u001b[90m.\u001b[39m\u001b[90m.\u001b[39m\u001b[90m.\u001b[39m\u001b[90m.\u001b[39m\u001b[90m.\u001b[39m\u001b[90m.\u001b[39m\u001b[90m.\u001b[39m\u001b[90m.\u001b[39m\u001b[90m.\u001b[39m\u001b[90m.\u001b[39m\u001b[90m.\u001b[39m\u001b[90m.\u001b[39m\u001b[90m.\u001b[39m\u001b[90m.\u001b[39m\u001b[90m.\u001b[39m\u001b[90m.\u001b[39m\u001b[90m 71ms\u001b[39m \u001b[32;1mDONE\u001b[39;22m\n",
      "  2023_01_11_194743_make_bet_events_table \u001b[90m.\u001b[39m\u001b[90m.\u001b[39m\u001b[90m.\u001b[39m\u001b[90m.\u001b[39m\u001b[90m.\u001b[39m\u001b[90m.\u001b[39m\u001b[90m.\u001b[39m\u001b[90m.\u001b[39m\u001b[90m.\u001b[39m\u001b[90m.\u001b[39m\u001b[90m.\u001b[39m\u001b[90m.\u001b[39m\u001b[90m.\u001b[39m\u001b[90m.\u001b[39m\u001b[90m.\u001b[39m\u001b[90m.\u001b[39m\u001b[90m.\u001b[39m\u001b[90m.\u001b[39m\u001b[90m.\u001b[39m\u001b[90m.\u001b[39m\u001b[90m.\u001b[39m\u001b[90m.\u001b[39m\u001b[90m.\u001b[39m\u001b[90m.\u001b[39m\u001b[90m.\u001b[39m\u001b[90m.\u001b[39m\u001b[90m 47ms\u001b[39m \u001b[32;1mDONE\u001b[39;22m\n",
      "\n"
     ]
    }
   ],
   "source": [
    "! php artisan migrate:fresh"
   ]
  },
  {
   "cell_type": "code",
   "execution_count": 8,
   "metadata": {},
   "outputs": [
    {
     "name": "stdout",
     "output_type": "stream",
     "text": [
      "\n",
      "  \u001b[37;44m INFO \u001b[39;49m Seeding database.  \n",
      "\n",
      "  Database\\Seeders\\UsersSeeder \u001b[90m.......................................\u001b[39m \u001b[33;1mRUNNING\u001b[39;22m  \n",
      "  Database\\Seeders\\UsersSeeder \u001b[90m................................\u001b[39m \u001b[90m638.86 ms\u001b[39m \u001b[32;1mDONE\u001b[39;22m  \n",
      "\n",
      "  Database\\Seeders\\SpecialEventsSeeder \u001b[90m...............................\u001b[39m \u001b[33;1mRUNNING\u001b[39;22m  \n",
      "  Database\\Seeders\\SpecialEventsSeeder \u001b[90m........................\u001b[39m \u001b[90m246.73 ms\u001b[39m \u001b[32;1mDONE\u001b[39;22m  \n",
      "\n",
      "  Database\\Seeders\\EventsSeeder \u001b[90m......................................\u001b[39m \u001b[33;1mRUNNING\u001b[39;22m  \n",
      "  Database\\Seeders\\EventsSeeder \u001b[90m...............................\u001b[39m \u001b[90m177.93 ms\u001b[39m \u001b[32;1mDONE\u001b[39;22m  \n",
      "\n",
      "  Database\\Seeders\\BlikCodesSeeder \u001b[90m...................................\u001b[39m \u001b[33;1mRUNNING\u001b[39;22m  \n",
      "  Database\\Seeders\\BlikCodesSeeder \u001b[90m.............................\u001b[39m \u001b[90m94.04 ms\u001b[39m \u001b[32;1mDONE\u001b[39;22m  \n",
      "\n",
      "  Database\\Seeders\\BetEventsSeeder \u001b[90m...................................\u001b[39m \u001b[33;1mRUNNING\u001b[39;22m  \n",
      "  Database\\Seeders\\BetEventsSeeder \u001b[90m............................\u001b[39m \u001b[90m170.60 ms\u001b[39m \u001b[32;1mDONE\u001b[39;22m  \n",
      "\n",
      "  Database\\Seeders\\BetsSeeder \u001b[90m........................................\u001b[39m \u001b[33;1mRUNNING\u001b[39;22m  \n",
      "  Database\\Seeders\\BetsSeeder \u001b[90m..................................\u001b[39m \u001b[90m98.24 ms\u001b[39m \u001b[32;1mDONE\u001b[39;22m  \n",
      "\n"
     ]
    }
   ],
   "source": [
    "! php artisan db:seed"
   ]
  },
  {
   "cell_type": "code",
   "execution_count": 9,
   "metadata": {},
   "outputs": [
    {
     "name": "stdout",
     "output_type": "stream",
     "text": [
      "mysqldump: [Warning] Using a password on the command line interface can be insecure.\r\n"
     ]
    }
   ],
   "source": [
    "! mysqldump -h127.0.0.1 -u root --password=root123 test > tests_codeception/_data/dump.sql"
   ]
  },
  {
   "cell_type": "code",
   "execution_count": 10,
   "metadata": {},
   "outputs": [
    {
     "name": "stdout",
     "output_type": "stream",
     "text": [
      "\u001b[K\u001b[?25hm##################\u001b[0m) ⠦ reify:@esbuild/android-arm: \u001b[32;40mtiming\u001b[0m \u001b[35mreifyNode:node_module\u001b[0m\u001b[K[0m\u001b[K\n",
      "up to date, audited 94 packages in 872ms\n",
      "\n",
      "20 packages are looking for funding\n",
      "  run `npm fund` for details\n",
      "\n",
      "found \u001b[32m\u001b[1m0\u001b[22m\u001b[39m vulnerabilities\n",
      "\u001b[37;40mnpm\u001b[0m \u001b[0m\u001b[36;40mnotice\u001b[0m\u001b[35m\u001b[0m \n",
      "\u001b[0m\u001b[37;40mnpm\u001b[0m \u001b[0m\u001b[36;40mnotice\u001b[0m\u001b[35m\u001b[0m New \u001b[31mmajor\u001b[39m version of npm available! \u001b[31m8.19.1\u001b[39m -> \u001b[32m9.4.0\u001b[39m\n",
      "\u001b[0m\u001b[37;40mnpm\u001b[0m \u001b[0m\u001b[36;40mnotice\u001b[0m\u001b[35m\u001b[0m Changelog: \u001b[36mhttps://github.com/npm/cli/releases/tag/v9.4.0\u001b[39m\n",
      "\u001b[0m\u001b[37;40mnpm\u001b[0m \u001b[0m\u001b[36;40mnotice\u001b[0m\u001b[35m\u001b[0m Run \u001b[32mnpm install -g npm@9.4.0\u001b[39m to update!\n",
      "\u001b[0m\u001b[37;40mnpm\u001b[0m \u001b[0m\u001b[36;40mnotice\u001b[0m\u001b[35m\u001b[0m \n",
      "\u001b[0m"
     ]
    }
   ],
   "source": [
    "! npm install"
   ]
  },
  {
   "cell_type": "code",
   "execution_count": 11,
   "metadata": {},
   "outputs": [
    {
     "name": "stdout",
     "output_type": "stream",
     "text": [
      "\n",
      "> build\n",
      "> vite build\n",
      "\n",
      "\u001b[36mvite v3.2.4 \u001b[32mbuilding for production...\u001b[36m\u001b[39m\n",
      "\u001b[2K\u001b[1Gtransforming (1) \u001b[2mresources/js/app.js\u001b[22m\u001b[2K\u001b[1Gtransforming (3) \u001b[2mresources/js/bootstrap.js\u001b[22m\u001b[2K\u001b[1Gtransforming (8) \u001b[2mnode_modules/axios/lib/axios.js\u001b[22m\u001b[2K\u001b[1Gtransforming (18) \u001b[2mnode_modules/axios/lib/helpers/formDataToJSON.js\u001b[22m\u001b[2K\u001b[1Gtransforming (30) \u001b[2mnode_modules/axios/lib/adapters/index.js\u001b[22m\u001b[2K\u001b[1G\u001b[32m✓\u001b[39m 49 modules transformed.\n",
      "\u001b[2K\u001b[1Grendering chunks (1)...\u001b[2K\u001b[1Grendering chunks (2)...\u001b[2K\u001b[1G\u001b[90m\u001b[37m\u001b[2mpublic/build/\u001b[22m\u001b[90m\u001b[39m\u001b[32mmanifest.json            \u001b[39m \u001b[2m0.25 KiB\u001b[22m\n",
      "\u001b[90m\u001b[37m\u001b[2mpublic/build/\u001b[22m\u001b[90m\u001b[39m\u001b[35massets/app.b58e06b0.css  \u001b[39m \u001b[2m26.40 KiB / gzip: 5.26 KiB\u001b[22m\n",
      "\u001b[90m\u001b[37m\u001b[2mpublic/build/\u001b[22m\u001b[90m\u001b[39m\u001b[36massets/app.d426e523.js   \u001b[39m \u001b[2m135.11 KiB / gzip: 49.03 KiB\u001b[22m\n"
     ]
    }
   ],
   "source": [
    "! npm run build"
   ]
  },
  {
   "cell_type": "code",
   "execution_count": null,
   "metadata": {},
   "outputs": [],
   "source": [
    "! php artisan test"
   ]
  },
  {
   "cell_type": "code",
   "execution_count": 16,
   "metadata": {},
   "outputs": [
    {
     "name": "stdout",
     "output_type": "stream",
     "text": [
      "\n",
      "   INFO  Server running on [http://127.0.0.1:8888].  \n",
      "\n",
      "  Press Ctrl+C to stop the server\n",
      "\n"
     ]
    }
   ],
   "source": [
    "import subprocess\n",
    "artisanServe = subprocess.Popen(['php', 'artisan', 'serve', '--port', '8888'])"
   ]
  },
  {
   "cell_type": "code",
   "execution_count": 17,
   "metadata": {},
   "outputs": [
    {
     "name": "stdout",
     "output_type": "stream",
     "text": [
      "Codeception PHP Testing Framework v5.0.6 https://helpukrainewin.org\n",
      "\n",
      "\u001b[1mTestsCodeception.Acceptance Tests (20) \u001b[22m-----------------------------------------\n",
      "- \u001b[35;1mTest01_RegisterCest:\u001b[39;22m Register new user  2023-01-16 09:56:43 ................................................... ~ 0s\n",
      "  2023-01-16 09:56:43 ................................................... ~ 0s\n",
      "  2023-01-16 09:56:43 ................................................... ~ 0s\n",
      "  2023-01-16 09:56:43 ................................................... ~ 0s\n",
      "  2023-01-16 09:56:43 ................................................... ~ 0s\n",
      "  2023-01-16 09:56:43 ................................................... ~ 0s\n",
      "  2023-01-16 09:56:43 ................................................... ~ 0s\n",
      "  2023-01-16 09:56:43 ................................................... ~ 0s\n",
      "  2023-01-16 09:56:43 ................................................... ~ 0s\n",
      "\u001b[32;1m✔\u001b[39;22m \u001b[35;1mTest01_RegisterCest:\u001b[39;22m See if User is in database \u001b[32m(0.68s)\u001b[39m\n",
      "- \u001b[35;1mTest02_LoginCest:\u001b[39;22m Login with existing user  2023-01-16 09:56:43 ................................................... ~ 0s\n",
      "  2023-01-16 09:56:43 ................................................... ~ 0s\n",
      "  2023-01-16 09:56:43 ................................................... ~ 0s\n",
      "  2023-01-16 09:56:43 ................................................... ~ 0s\n",
      "  2023-01-16 09:56:43 ................................................... ~ 0s\n",
      "  2023-01-16 09:56:44 ................................................... ~ 0s\n",
      "  2023-01-16 09:56:44 ................................................... ~ 0s\n",
      "  2023-01-16 09:56:44 ................................................... ~ 0s\n",
      "  2023-01-16 09:56:45 ................................................... ~ 0s\n",
      "  2023-01-16 09:56:45 ................................................... ~ 0s\n",
      "  2023-01-16 09:56:45 ................................................... ~ 0s\n",
      "  2023-01-16 09:56:45 ................................................... ~ 0s\n",
      "  2023-01-16 09:56:45 ................................................... ~ 0s\n",
      "  2023-01-16 09:56:45 ................................................... ~ 0s\n",
      "  2023-01-16 09:56:45 ................................................... ~ 0s\n",
      "  2023-01-16 09:56:45 ................................................... ~ 0s\n",
      "  2023-01-16 09:56:45 ................................................... ~ 0s\n",
      "  2023-01-16 09:56:45 ................................................... ~ 0s\n",
      "  2023-01-16 09:56:45 ................................................... ~ 0s\n",
      "  2023-01-16 09:56:45 ................................................... ~ 1s\n",
      "  2023-01-16 09:56:46 ................................................... ~ 0s\n",
      "  2023-01-16 09:56:46 ................................................... ~ 0s\n",
      "\u001b[32;1m✔\u001b[39;22m \u001b[35;1mTest02_LoginCest:\u001b[39;22m Login with existing user \u001b[32m(1.28s)\u001b[39m\n",
      "- \u001b[35;1mTest03_MainPageCest:\u001b[39;22m See Welcome Page  2023-01-16 09:56:46 ................................................... ~ 0s\n",
      "  2023-01-16 09:56:46 ................................................... ~ 0s\n",
      "  2023-01-16 09:56:46 ................................................... ~ 0s\n",
      "  2023-01-16 09:56:46 ................................................... ~ 0s\n",
      "  2023-01-16 09:56:46 ................................................... ~ 0s\n",
      "  2023-01-16 09:56:46 ................................................... ~ 0s\n",
      "\u001b[32;1m✔\u001b[39;22m \u001b[35;1mTest03_MainPageCest:\u001b[39;22m See Welcome Page \u001b[32m(0.09s)\u001b[39m\n",
      "- \u001b[35;1mTest04_MyAccountCest:\u001b[39;22m Look at my account  2023-01-16 09:56:47 ................................................... ~ 0s\n",
      "  2023-01-16 09:56:47 ................................................... ~ 0s\n",
      "  2023-01-16 09:56:48 ................................................... ~ 0s\n",
      "\u001b[32;1m✔\u001b[39;22m \u001b[35;1mTest04_MyAccountCest:\u001b[39;22m Look at my account \u001b[32m(0.39s)\u001b[39m\n",
      "- \u001b[35;1mTest05_AddBalanceCest:\u001b[39;22m Add balance to my account  2023-01-16 09:56:48 ................................................... ~ 0s\n",
      "  2023-01-16 09:56:48 ................................................... ~ 0s\n",
      "  2023-01-16 09:56:48 ................................................... ~ 1s\n",
      "  2023-01-16 09:56:49 ................................................... ~ 0s\n",
      "  2023-01-16 09:56:49 ................................................... ~ 0s\n",
      "  2023-01-16 09:56:50 ................................................... ~ 0s\n",
      "  2023-01-16 09:56:50 ................................................... ~ 0s\n",
      "  2023-01-16 09:56:50 ................................................... ~ 0s\n",
      "  2023-01-16 09:56:50 ................................................... ~ 0s\n",
      "  2023-01-16 09:56:50 ................................................... ~ 0s\n",
      "  2023-01-16 09:56:50 ................................................... ~ 0s\n",
      "  2023-01-16 09:56:50 ................................................... ~ 0s\n",
      "  2023-01-16 09:56:50 ................................................... ~ 0s\n",
      "  2023-01-16 09:56:50 ................................................... ~ 0s\n",
      "  2023-01-16 09:56:50 ................................................... ~ 0s\n",
      "  2023-01-16 09:56:50 ................................................... ~ 0s\n",
      "  2023-01-16 09:56:50 ................................................... ~ 0s\n",
      "\u001b[32;1m✔\u001b[39;22m \u001b[35;1mTest05_AddBalanceCest:\u001b[39;22m Add balance to my account \u001b[32m(0.59s)\u001b[39m\n",
      "- \u001b[35;1mTest06_BuyPremiumCest:\u001b[39;22m Buy premium account  2023-01-16 09:56:50 ................................................... ~ 0s\n",
      "  2023-01-16 09:56:51 ................................................... ~ 0s\n",
      "  2023-01-16 09:56:51 ................................................... ~ 1s\n",
      "  2023-01-16 09:56:52 ................................................... ~ 0s\n",
      "  2023-01-16 09:56:52 ................................................... ~ 0s\n",
      "  2023-01-16 09:56:52 ................................................... ~ 0s\n",
      "  2023-01-16 09:56:52 ................................................... ~ 0s\n",
      "  2023-01-16 09:56:52 ................................................... ~ 0s\n",
      "  2023-01-16 09:56:52 ................................................... ~ 0s\n",
      "\u001b[32;1m✔\u001b[39;22m \u001b[35;1mTest06_BuyPremiumCest:\u001b[39;22m Buy premium account \u001b[32m(0.79s)\u001b[39m\n",
      "- \u001b[35;1mTest07_ScratchWonCest:\u001b[39;22m Won Scratch  2023-01-16 09:56:52 ................................................... ~ 0s\n",
      "  2023-01-16 09:56:52 ................................................... ~ 0s\n",
      "  2023-01-16 09:56:52 ................................................... ~ 0s\n",
      "  2023-01-16 09:56:52 ................................................... ~ 0s\n",
      "  2023-01-16 09:56:52 ................................................... ~ 0s\n",
      "  2023-01-16 09:56:52 ................................................... ~ 0s\n",
      "  2023-01-16 09:56:52 ................................................... ~ 0s\n",
      "  2023-01-16 09:56:52 ................................................... ~ 0s\n",
      "  2023-01-16 09:56:52 ................................................... ~ 0s\n",
      "  2023-01-16 09:56:52 ................................................... ~ 0s\n",
      "  2023-01-16 09:56:52 ................................................... ~ 0s\n",
      "  2023-01-16 09:56:52 ................................................... ~ 0s\n",
      "  2023-01-16 09:56:53 ................................................... ~ 0s\n",
      "  2023-01-16 09:56:53 ................................................... ~ 0s\n",
      "  2023-01-16 09:56:53 ................................................... ~ 0s\n",
      "  2023-01-16 09:56:53 ................................................... ~ 1s\n",
      "  2023-01-16 09:56:54 ................................................... ~ 0s\n",
      "  2023-01-16 09:56:54 ................................................... ~ 0s\n",
      "  2023-01-16 09:56:54 ................................................... ~ 0s\n",
      "  2023-01-16 09:56:54 ................................................... ~ 0s\n",
      "  2023-01-16 09:56:54 ................................................... ~ 0s\n",
      "  2023-01-16 09:56:54 ................................................... ~ 0s\n",
      "  2023-01-16 09:56:54 ................................................... ~ 0s\n",
      "  2023-01-16 09:56:54 ................................................... ~ 0s\n",
      "  2023-01-16 09:56:54 ................................................... ~ 0s\n",
      "  2023-01-16 09:56:54 ................................................... ~ 0s\n",
      "  2023-01-16 09:56:54 ................................................... ~ 0s\n"
     ]
    },
    {
     "name": "stdout",
     "output_type": "stream",
     "text": [
      "  2023-01-16 09:56:54 ................................................... ~ 0s\n",
      "\u001b[32;1m✔\u001b[39;22m \u001b[35;1mTest07_ScratchWonCest:\u001b[39;22m Won Scratch \u001b[32m(0.74s)\u001b[39m\n",
      "- \u001b[35;1mTest08_ScratchLostCest:\u001b[39;22m Lose Scratch  2023-01-16 09:56:54 ................................................... ~ 0s\n",
      "  2023-01-16 09:56:54 ................................................... ~ 0s\n",
      "  2023-01-16 09:56:54 ................................................... ~ 0s\n",
      "  2023-01-16 09:56:55 ................................................... ~ 0s\n",
      "  2023-01-16 09:56:55 ................................................... ~ 0s\n",
      "  2023-01-16 09:56:55 ................................................... ~ 0s\n",
      "  2023-01-16 09:56:55 ................................................... ~ 0s\n",
      "  2023-01-16 09:56:55 ................................................... ~ 0s\n",
      "  2023-01-16 09:56:55 ................................................... ~ 0s\n",
      "  2023-01-16 09:56:55 ................................................... ~ 0s\n",
      "\u001b[32;1m✔\u001b[39;22m \u001b[35;1mTest08_ScratchLostCest:\u001b[39;22m Lose Scratch \u001b[32m(0.70s)\u001b[39m\n",
      "- \u001b[35;1mTest09_DeletePremiumAccountCest:\u001b[39;22m Look at my account  2023-01-16 09:56:55 ................................................... ~ 0s\n",
      "  2023-01-16 09:56:55 ................................................... ~ 1s\n",
      "  2023-01-16 09:56:56 ................................................... ~ 0s\n",
      "  2023-01-16 09:56:56 ................................................... ~ 0s\n",
      "  2023-01-16 09:56:56 ................................................... ~ 0s\n",
      "  2023-01-16 09:56:56 ................................................... ~ 0s\n",
      "  2023-01-16 09:56:56 ................................................... ~ 0s\n",
      "  2023-01-16 09:56:56 ................................................... ~ 0s\n",
      "  2023-01-16 09:56:56 ................................................... ~ 0s\n",
      "  2023-01-16 09:56:56 ................................................... ~ 0s\n",
      "  2023-01-16 09:56:56 ................................................... ~ 0s\n",
      "  2023-01-16 09:56:56 ................................................... ~ 0s\n",
      "  2023-01-16 09:56:57 ................................................... ~ 0s\n",
      "  2023-01-16 09:56:57 ................................................... ~ 0s\n",
      "  2023-01-16 09:56:57 ................................................... ~ 0s\n",
      "  2023-01-16 09:56:57 ................................................... ~ 0s\n",
      "  2023-01-16 09:56:57 ................................................... ~ 0s\n",
      "  2023-01-16 09:56:57 ................................................... ~ 0s\n",
      "  2023-01-16 09:56:57 ................................................... ~ 0s\n",
      "  2023-01-16 09:56:57 ................................................... ~ 0s\n",
      "  2023-01-16 09:56:57 ................................................... ~ 0s\n",
      "  2023-01-16 09:56:57 ................................................... ~ 0s\n",
      "  2023-01-16 09:56:57 ................................................... ~ 0s\n",
      "\u001b[32;1m✔\u001b[39;22m \u001b[35;1mTest09_DeletePremiumAccountCest:\u001b[39;22m Look at my account \u001b[32m(0.70s)\u001b[39m\n",
      "- \u001b[35;1mTest10_DeleteAccountCest:\u001b[39;22m Look at my account  2023-01-16 09:56:57 ................................................... ~ 1s\n",
      "  2023-01-16 09:56:58 ................................................... ~ 0s\n",
      "  2023-01-16 09:56:58 ................................................... ~ 0s\n",
      "  2023-01-16 09:56:58 ................................................... ~ 0s\n",
      "  2023-01-16 09:56:58 ................................................... ~ 0s\n",
      "  2023-01-16 09:56:58 ................................................... ~ 0s\n",
      "  2023-01-16 09:56:59 ................................................... ~ 0s\n",
      "  2023-01-16 09:56:59 ................................................... ~ 0s\n",
      "  2023-01-16 09:56:59 ................................................... ~ 0s\n",
      "  2023-01-16 09:56:59 ................................................... ~ 0s\n",
      "  2023-01-16 09:56:59 ................................................... ~ 0s\n",
      "\u001b[32;1m✔\u001b[39;22m \u001b[35;1mTest10_DeleteAccountCest:\u001b[39;22m Look at my account \u001b[32m(0.54s)\u001b[39m\n",
      "- \u001b[35;1mTest11_DisciplineCest:\u001b[39;22m Select discipline  2023-01-16 09:56:59 ................................................... ~ 0s\n",
      "  2023-01-16 09:56:59 ................................................... ~ 0s\n",
      "  2023-01-16 09:56:59 ................................................... ~ 0s\n",
      "  2023-01-16 09:56:59 ................................................... ~ 0s\n",
      "  2023-01-16 09:56:59 ................................................... ~ 0s\n",
      "  2023-01-16 09:56:59 ................................................... ~ 0s\n",
      "  2023-01-16 09:56:59 ................................................... ~ 0s\n",
      "  2023-01-16 09:57:00 ................................................... ~ 0s\n",
      "  2023-01-16 09:57:00 ................................................... ~ 0s\n",
      "  2023-01-16 09:57:00 ................................................... ~ 0s\n",
      "  2023-01-16 09:57:01 ................................................... ~ 0s\n",
      "  2023-01-16 09:57:01 ................................................... ~ 0s\n",
      "\u001b[32;1m✔\u001b[39;22m \u001b[35;1mTest11_DisciplineCest:\u001b[39;22m Select discipline \u001b[32m(0.25s)\u001b[39m\n",
      "- \u001b[35;1mTest12_BetsCest:\u001b[39;22m Bet  2023-01-16 09:57:01 ................................................... ~ 0s\n",
      "  2023-01-16 09:57:02 ................................................... ~ 0s\n",
      "  2023-01-16 09:57:02 ................................................... ~ 0s\n",
      "  2023-01-16 09:57:02 ................................................... ~ 0s\n",
      "  2023-01-16 09:57:02 ................................................... ~ 0s\n",
      "  2023-01-16 09:57:02 ................................................... ~ 0s\n",
      "\u001b[32;1m✔\u001b[39;22m \u001b[35;1mTest12_BetsCest:\u001b[39;22m Bet \u001b[32m(0.72s)\u001b[39m\n",
      "- \u001b[35;1mTest13_LiveBetsCest:\u001b[39;22m Live Bet  2023-01-16 09:57:02 ................................................... ~ 0s\n",
      "  2023-01-16 09:57:02 ................................................... ~ 0s\n",
      "  2023-01-16 09:57:02 ................................................... ~ 0s\n",
      "  2023-01-16 09:57:02 ................................................... ~ 0s\n",
      "  2023-01-16 09:57:02 ................................................... ~ 0s\n",
      "  2023-01-16 09:57:02 ................................................... ~ 0s\n",
      "  2023-01-16 09:57:02 ................................................... ~ 0s\n",
      "  2023-01-16 09:57:02 ................................................... ~ 0s\n",
      "  2023-01-16 09:57:02 ................................................... ~ 0s\n",
      "  2023-01-16 09:57:02 ................................................... ~ 0s\n",
      "  2023-01-16 09:57:04 ................................................... ~ 0s\n",
      "  2023-01-16 09:57:04 ................................................... ~ 0s\n",
      "  2023-01-16 09:57:04 ................................................... ~ 0s\n",
      "  2023-01-16 09:57:04 ................................................... ~ 0s\n",
      "  2023-01-16 09:57:04 ................................................... ~ 0s\n",
      "  2023-01-16 09:57:04 ................................................... ~ 0s\n",
      "  2023-01-16 09:57:04 ................................................... ~ 0s\n",
      "  2023-01-16 09:57:04 ................................................... ~ 0s\n",
      "  2023-01-16 09:57:04 ................................................... ~ 0s\n",
      "  2023-01-16 09:57:04 ................................................... ~ 0s\n",
      "  2023-01-16 09:57:04 ................................................... ~ 0s\n",
      "  2023-01-16 09:57:04 ................................................... ~ 0s\n",
      "  2023-01-16 09:57:04 ................................................... ~ 0s\n",
      "\u001b[32;1m✔\u001b[39;22m \u001b[35;1mTest13_LiveBetsCest:\u001b[39;22m Live Bet \u001b[32m(0.73s)\u001b[39m\n",
      "- \u001b[35;1mTest14_UnlogBetsCest:\u001b[39;22m Unlog Bet  2023-01-16 09:57:04 ................................................... ~ 0s\n",
      "  2023-01-16 09:57:04 ................................................... ~ 0s\n",
      "  2023-01-16 09:57:04 ................................................... ~ 0s\n",
      "  2023-01-16 09:57:04 ................................................... ~ 0s\n",
      "  2023-01-16 09:57:05 ................................................... ~ 0s\n",
      "  2023-01-16 09:57:05 ................................................... ~ 0s\n",
      "  2023-01-16 09:57:06 ................................................... ~ 0s\n",
      "  2023-01-16 09:57:06 ................................................... ~ 0s\n",
      "  2023-01-16 09:57:06 ................................................... ~ 0s\n",
      "  2023-01-16 09:57:06 ................................................... ~ 0s\n"
     ]
    },
    {
     "name": "stdout",
     "output_type": "stream",
     "text": [
      "\u001b[32;1m✔\u001b[39;22m \u001b[35;1mTest14_UnlogBetsCest:\u001b[39;22m Unlog Bet \u001b[32m(0.32s)\u001b[39m\n",
      "- \u001b[35;1mTest15_SpecialBetsCest:\u001b[39;22m SpecialEvent Bet  2023-01-16 09:57:06 ................................................... ~ 0s\n",
      "  2023-01-16 09:57:06 ................................................... ~ 0s\n",
      "  2023-01-16 09:57:06 ................................................... ~ 0s\n",
      "  2023-01-16 09:57:07 ................................................... ~ 0s\n",
      "  2023-01-16 09:57:07 ................................................... ~ 0s\n",
      "  2023-01-16 09:57:07 ................................................... ~ 0s\n",
      "  2023-01-16 09:57:07 ................................................... ~ 0s\n",
      "  2023-01-16 09:57:07 ................................................... ~ 0s\n",
      "\u001b[32;1m✔\u001b[39;22m \u001b[35;1mTest15_SpecialBetsCest:\u001b[39;22m SpecialEvent Bet \u001b[32m(0.69s)\u001b[39m\n",
      "- \u001b[35;1mTest16_UnlogSpecialBetsCest:\u001b[39;22m Unlog SpecialEvent Bet  2023-01-16 09:57:07 ................................................... ~ 0s\n",
      "  2023-01-16 09:57:07 ................................................... ~ 0s\n",
      "  2023-01-16 09:57:07 ................................................... ~ 0s\n",
      "  2023-01-16 09:57:07 ................................................... ~ 0s\n",
      "  2023-01-16 09:57:07 ................................................... ~ 0s\n",
      "  2023-01-16 09:57:07 ................................................... ~ 0s\n",
      "  2023-01-16 09:57:07 ................................................... ~ 0s\n",
      "  2023-01-16 09:57:07 ................................................... ~ 0s\n",
      "  2023-01-16 09:57:07 ................................................... ~ 1s\n",
      "  2023-01-16 09:57:09 ................................................... ~ 0s\n",
      "  2023-01-16 09:57:09 ................................................... ~ 0s\n",
      "\u001b[32;1m✔\u001b[39;22m \u001b[35;1mTest16_UnlogSpecialBetsCest:\u001b[39;22m Unlog SpecialEvent Bet \u001b[32m(0.33s)\u001b[39m\n",
      "- \u001b[35;1mTest17_ResetPasswordCest:\u001b[39;22m Login with existing user  2023-01-16 09:57:09 ................................................... ~ 0s\n",
      "  2023-01-16 09:57:09 ................................................... ~ 0s\n",
      "  2023-01-16 09:57:09 ................................................... ~ 0s\n",
      "  2023-01-16 09:57:09 ................................................... ~ 0s\n",
      "  2023-01-16 09:57:09 ................................................... ~ 0s\n",
      "  2023-01-16 09:57:09 ................................................... ~ 0s\n",
      "  2023-01-16 09:57:09 ................................................... ~ 0s\n",
      "  2023-01-16 09:57:10 ................................................... ~ 0s\n",
      "  2023-01-16 09:57:10 ................................................... ~ 0s\n",
      "  2023-01-16 09:57:10 ................................................... ~ 0s\n",
      "  2023-01-16 09:57:10 ................................................... ~ 0s\n",
      "  2023-01-16 09:57:10 ................................................... ~ 0s\n",
      "  2023-01-16 09:57:10 ................................................... ~ 0s\n",
      "  2023-01-16 09:57:10 ................................................... ~ 0s\n",
      "  2023-01-16 09:57:10 ................................................... ~ 0s\n",
      "  2023-01-16 09:57:10 ................................................... ~ 0s\n",
      "  2023-01-16 09:57:10 ................................................... ~ 0s\n",
      "  2023-01-16 09:57:10 ................................................... ~ 0s\n",
      "  2023-01-16 09:57:10 ................................................... ~ 0s\n",
      "  2023-01-16 09:57:10 ................................................... ~ 0s\n",
      "  2023-01-16 09:57:10 ................................................... ~ 0s\n",
      "  2023-01-16 09:57:10 ................................................... ~ 0s\n",
      "  2023-01-16 09:57:10 ................................................... ~ 1s\n",
      "  2023-01-16 09:57:11 ................................................... ~ 0s\n",
      "  2023-01-16 09:57:11 ................................................... ~ 0s\n",
      "  2023-01-16 09:57:11 ................................................... ~ 0s\n",
      "  2023-01-16 09:57:11 ................................................... ~ 0s\n",
      "  2023-01-16 09:57:11 ................................................... ~ 0s\n",
      "\u001b[32;1m✔\u001b[39;22m \u001b[35;1mTest17_ResetPasswordCest:\u001b[39;22m Login with existing user \u001b[32m(0.73s)\u001b[39m\n",
      "- \u001b[35;1mTest18_ResultsCest:\u001b[39;22m See Results  2023-01-16 09:57:11 ................................................... ~ 0s\n",
      "\u001b[32;1m✔\u001b[39;22m \u001b[35;1mTest18_ResultsCest:\u001b[39;22m See Results \u001b[32m(0.08s)\u001b[39m\n",
      "- \u001b[35;1mTest19_WonBetCest:\u001b[39;22m See won bet  2023-01-16 09:57:12 ................................................... ~ 0s\n",
      "  2023-01-16 09:57:13 ................................................... ~ 0s\n",
      "  2023-01-16 09:57:13 ................................................... ~ 0s\n",
      "  2023-01-16 09:57:13 ................................................... ~ 0s\n",
      "\u001b[32;1m✔\u001b[39;22m \u001b[35;1mTest19_WonBetCest:\u001b[39;22m See won bet \u001b[32m(0.59s)\u001b[39m\n",
      "- \u001b[35;1mTest20_LostBetCest:\u001b[39;22m See lost bet  2023-01-16 09:57:13 ................................................... ~ 0s\n",
      "  2023-01-16 09:57:13 ................................................... ~ 0s\n",
      "  2023-01-16 09:57:13 ................................................... ~ 0s\n",
      "  2023-01-16 09:57:13 ................................................... ~ 0s\n",
      "  2023-01-16 09:57:13 ................................................... ~ 1s\n",
      "  2023-01-16 09:57:14 ................................................... ~ 0s\n",
      "  2023-01-16 09:57:15 ................................................... ~ 0s\n",
      "  2023-01-16 09:57:15 ................................................... ~ 0s\n",
      "  2023-01-16 09:57:15 ................................................... ~ 0s\n",
      "  2023-01-16 09:57:15 ................................................... ~ 0s\n",
      "  2023-01-16 09:57:15 ................................................... ~ 0s\n",
      "  2023-01-16 09:57:15 ................................................... ~ 0s\n",
      "  2023-01-16 09:57:15 ................................................... ~ 0s\n",
      "\u001b[32;1m✔\u001b[39;22m \u001b[35;1mTest20_LostBetCest:\u001b[39;22m See lost bet \u001b[32m(0.58s)\u001b[39m\n",
      "--------------------------------------------------------------------------------\n",
      "Time: 00:34.804, Memory: 16.00 MB\n",
      "\n",
      "\u001b[30;42mOK (20 tests, 376 assertions)\u001b[39;49m\n",
      "  2023-01-16 09:57:15 ................................................... ~ 0s\n",
      "  2023-01-16 09:57:15 ................................................... ~ 0s\n"
     ]
    }
   ],
   "source": [
    "! vendor/bin/codecept run"
   ]
  },
  {
   "cell_type": "code",
   "execution_count": 18,
   "metadata": {},
   "outputs": [],
   "source": [
    "! killall php php8.1"
   ]
  },
  {
   "cell_type": "code",
   "execution_count": 12,
   "metadata": {},
   "outputs": [
    {
     "name": "stdout",
     "output_type": "stream",
     "text": [
      "/home/student/PHP/php_2022_bukmacher/09_laravel_tdd\n"
     ]
    }
   ],
   "source": [
    "%cd .."
   ]
  },
  {
   "cell_type": "markdown",
   "metadata": {},
   "source": [
    "Stop database:"
   ]
  },
  {
   "cell_type": "code",
   "execution_count": 14,
   "metadata": {},
   "outputs": [
    {
     "name": "stdout",
     "output_type": "stream",
     "text": [
      "mysql\r\n"
     ]
    }
   ],
   "source": [
    "! docker container stop mysql"
   ]
  },
  {
   "cell_type": "code",
   "execution_count": null,
   "metadata": {},
   "outputs": [],
   "source": []
  }
 ],
 "metadata": {
  "kernelspec": {
   "display_name": "Python 3 (ipykernel)",
   "language": "python",
   "name": "python3"
  },
  "language_info": {
   "codemirror_mode": {
    "name": "ipython",
    "version": 3
   },
   "file_extension": ".py",
   "mimetype": "text/x-python",
   "name": "python",
   "nbconvert_exporter": "python",
   "pygments_lexer": "ipython3",
   "version": "3.10.6"
  }
 },
 "nbformat": 4,
 "nbformat_minor": 4
}
